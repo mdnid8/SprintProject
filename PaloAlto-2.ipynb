{
 "cells": [
  {
   "cell_type": "code",
   "execution_count": 1,
   "id": "0ec8e5ff",
   "metadata": {},
   "outputs": [
    {
     "name": "stdout",
     "output_type": "stream",
     "text": [
      "numpy      : 1.24.3\n",
      " pandas    : not installed\n",
      "matplotlib : 3.7.2\n",
      " seaborn   : not installed\n",
      "scipy      : 1.11.1\n",
      "statsmodels: 0.14.0\n",
      "\n"
     ]
    }
   ],
   "source": [
    "#data manipulation\n",
    "import numpy as np\n",
    "import pandas as pd\n",
    "\n",
    "#ploting\n",
    "import matplotlib.pyplot as plt\n",
    "import seaborn as sns\n",
    "\n",
    "#statistical modeling\n",
    "from scipy import stats\n",
    "from scipy.stats import norm\n",
    "import statsmodels.api as sm\n",
    "from datetime import datetime\n",
    "from watermark import watermark\n",
    "print(watermark(packages=\"numpy, pandas,matplotlib, seaborn,scipy,statsmodels\"))"
   ]
  },
  {
   "cell_type": "code",
   "execution_count": 2,
   "id": "a5b32682",
   "metadata": {},
   "outputs": [
    {
     "name": "stderr",
     "output_type": "stream",
     "text": [
      "/var/folders/xm/6l5vh0t50td0sdk__7s1xptc0000gn/T/ipykernel_77218/927276920.py:1: DtypeWarning: Columns (29,30,32) have mixed types. Specify dtype option on import or set low_memory=False.\n",
      "  df = pd.read_csv('/Users/stevekim/Desktop/BrainStationSprintProject/EVChargingStationUsageCali.csv')\n"
     ]
    }
   ],
   "source": [
    "df = pd.read_csv('/Users/stevekim/Desktop/BrainStationSprintProject/EVChargingStationUsageCali.csv')"
   ]
  },
  {
   "cell_type": "code",
   "execution_count": 3,
   "id": "680068fb",
   "metadata": {
    "scrolled": true
   },
   "outputs": [
    {
     "name": "stdout",
     "output_type": "stream",
     "text": [
      "                 Station Name          MAC Address           Org Name  \\\n",
      "0  PALO ALTO CA / HAMILTON #1  000D:6F00:015A:9D76  City of Palo Alto   \n",
      "1  PALO ALTO CA / HAMILTON #1  000D:6F00:015A:9D76  City of Palo Alto   \n",
      "2  PALO ALTO CA / HAMILTON #1  000D:6F00:015A:9D76  City of Palo Alto   \n",
      "3  PALO ALTO CA / HAMILTON #1  000D:6F00:015A:9D76  City of Palo Alto   \n",
      "4  PALO ALTO CA / HAMILTON #1  000D:6F00:015A:9D76  City of Palo Alto   \n",
      "\n",
      "        Start Date Start Time Zone         End Date End Time Zone  \\\n",
      "0  7/29/2011 20:17             PDT  7/29/2011 23:20           PDT   \n",
      "1   7/30/2011 0:00             PDT   7/30/2011 0:02           PDT   \n",
      "2   7/30/2011 8:16             PDT  7/30/2011 12:34           PDT   \n",
      "3  7/30/2011 14:51             PDT  7/30/2011 16:55           PDT   \n",
      "4  7/30/2011 18:51             PDT  7/30/2011 20:03           PDT   \n",
      "\n",
      "  Transaction Date (Pacific Time) Total Duration (hh:mm:ss)  \\\n",
      "0                 7/29/2011 23:20                   3:03:32   \n",
      "1                  7/30/2011 0:02                   0:02:06   \n",
      "2                 7/30/2011 12:34                   4:17:32   \n",
      "3                 7/30/2011 16:55                   2:03:24   \n",
      "4                 7/30/2011 20:03                   1:11:24   \n",
      "\n",
      "  Charging Time (hh:mm:ss)  ...   Longitude  Currency  Fee  \\\n",
      "0                  1:54:03  ... -122.160309       USD  0.0   \n",
      "1                  0:01:54  ... -122.160309       USD  0.0   \n",
      "2                  4:17:28  ... -122.160309       USD  0.0   \n",
      "3                  2:02:58  ... -122.160309       USD  0.0   \n",
      "4                  0:43:54  ... -122.160309       USD  0.0   \n",
      "\n",
      "              Ended By  Plug In Event Id Driver Postal Code  User ID County  \\\n",
      "0  Plug Out at Vehicle                 3            95124.0   3284.0    NaN   \n",
      "1             Customer                 4            94301.0   4169.0    NaN   \n",
      "2  Plug Out at Vehicle                 5            94301.0   4169.0    NaN   \n",
      "3             Customer                 6            94302.0   2545.0    NaN   \n",
      "4  Plug Out at Vehicle                 7            94043.0   3765.0    NaN   \n",
      "\n",
      "  System S/N Model Number  \n",
      "0        NaN          NaN  \n",
      "1        NaN          NaN  \n",
      "2        NaN          NaN  \n",
      "3        NaN          NaN  \n",
      "4        NaN          NaN  \n",
      "\n",
      "[5 rows x 33 columns]\n"
     ]
    }
   ],
   "source": [
    "print(df.head())"
   ]
  },
  {
   "cell_type": "code",
   "execution_count": 4,
   "id": "9947724f",
   "metadata": {
    "scrolled": false
   },
   "outputs": [
    {
     "data": {
      "text/plain": [
       "Index(['Station Name', 'MAC Address', 'Org Name', 'Start Date',\n",
       "       'Start Time Zone', 'End Date', 'End Time Zone',\n",
       "       'Transaction Date (Pacific Time)', 'Total Duration (hh:mm:ss)',\n",
       "       'Charging Time (hh:mm:ss)', 'Energy (kWh)', 'GHG Savings (kg)',\n",
       "       'Gasoline Savings (gallons)', 'Port Type', 'Port Number', 'Plug Type',\n",
       "       'EVSE ID', 'Address 1', 'City', 'State/Province', 'Postal Code',\n",
       "       'Country', 'Latitude', 'Longitude', 'Currency', 'Fee', 'Ended By',\n",
       "       'Plug In Event Id', 'Driver Postal Code', 'User ID', 'County',\n",
       "       'System S/N', 'Model Number'],\n",
       "      dtype='object')"
      ]
     },
     "execution_count": 4,
     "metadata": {},
     "output_type": "execute_result"
    }
   ],
   "source": [
    "df.columns"
   ]
  },
  {
   "cell_type": "markdown",
   "id": "3b2ac1d3",
   "metadata": {},
   "source": [
    "Column names are too long keep it short and neat"
   ]
  },
  {
   "cell_type": "code",
   "execution_count": 5,
   "id": "cd066ff6",
   "metadata": {},
   "outputs": [
    {
     "name": "stdout",
     "output_type": "stream",
     "text": [
      "Index(['Station Name', 'MAC Address', 'Org Name', 'Start Date',\n",
      "       'Start Time Zone', 'End Date', 'End Time Zone', 'Transaction Date',\n",
      "       'Total Duration', 'Charging Time', 'Energy', 'GreenHouseGasSave',\n",
      "       'Gasoline Savings', 'Port Type', 'Port Number', 'Plug Type', 'EVSE ID',\n",
      "       'Address 1', 'City', 'State/Province', 'Postal Code', 'Country',\n",
      "       'Latitude', 'Longitude', 'Currency', 'Fee', 'Ended By',\n",
      "       'Plug In Event Id', 'Driver Postal Code', 'User ID', 'County',\n",
      "       'System S/N', 'Model Number'],\n",
      "      dtype='object')\n"
     ]
    }
   ],
   "source": [
    "df.rename(columns={'Energy (kWh)' : 'Energy', 'GHG Savings (kg)': \"GreenHouseGasSave\",\n",
    "                  'Transaction Date (Pacific Time)':'Transaction Date',\n",
    "                   'Charging Time (hh:mm:ss)':'Charging Time',\n",
    "                   'Total Duration (hh:mm:ss)': 'Total Duration',\n",
    "                   'Gasoline Savings (gallons)': 'Gasoline Savings'\n",
    "                  }, inplace=True)\n",
    "print(df.columns)"
   ]
  },
  {
   "cell_type": "code",
   "execution_count": 6,
   "id": "6a469b86",
   "metadata": {},
   "outputs": [
    {
     "data": {
      "text/html": [
       "<div>\n",
       "<style scoped>\n",
       "    .dataframe tbody tr th:only-of-type {\n",
       "        vertical-align: middle;\n",
       "    }\n",
       "\n",
       "    .dataframe tbody tr th {\n",
       "        vertical-align: top;\n",
       "    }\n",
       "\n",
       "    .dataframe thead th {\n",
       "        text-align: right;\n",
       "    }\n",
       "</style>\n",
       "<table border=\"1\" class=\"dataframe\">\n",
       "  <thead>\n",
       "    <tr style=\"text-align: right;\">\n",
       "      <th></th>\n",
       "      <th>Station Name</th>\n",
       "      <th>MAC Address</th>\n",
       "      <th>Org Name</th>\n",
       "      <th>Start Date</th>\n",
       "      <th>Start Time Zone</th>\n",
       "      <th>End Date</th>\n",
       "      <th>End Time Zone</th>\n",
       "      <th>Transaction Date</th>\n",
       "      <th>Total Duration</th>\n",
       "      <th>Charging Time</th>\n",
       "      <th>...</th>\n",
       "      <th>Longitude</th>\n",
       "      <th>Currency</th>\n",
       "      <th>Fee</th>\n",
       "      <th>Ended By</th>\n",
       "      <th>Plug In Event Id</th>\n",
       "      <th>Driver Postal Code</th>\n",
       "      <th>User ID</th>\n",
       "      <th>County</th>\n",
       "      <th>System S/N</th>\n",
       "      <th>Model Number</th>\n",
       "    </tr>\n",
       "  </thead>\n",
       "  <tbody>\n",
       "    <tr>\n",
       "      <th>0</th>\n",
       "      <td>PALO ALTO CA / HAMILTON #1</td>\n",
       "      <td>000D:6F00:015A:9D76</td>\n",
       "      <td>City of Palo Alto</td>\n",
       "      <td>7/29/2011 20:17</td>\n",
       "      <td>PDT</td>\n",
       "      <td>7/29/2011 23:20</td>\n",
       "      <td>PDT</td>\n",
       "      <td>7/29/2011 23:20</td>\n",
       "      <td>3:03:32</td>\n",
       "      <td>1:54:03</td>\n",
       "      <td>...</td>\n",
       "      <td>-122.160309</td>\n",
       "      <td>USD</td>\n",
       "      <td>0.0</td>\n",
       "      <td>Plug Out at Vehicle</td>\n",
       "      <td>3</td>\n",
       "      <td>95124.0</td>\n",
       "      <td>3284.0</td>\n",
       "      <td>NaN</td>\n",
       "      <td>NaN</td>\n",
       "      <td>NaN</td>\n",
       "    </tr>\n",
       "    <tr>\n",
       "      <th>1</th>\n",
       "      <td>PALO ALTO CA / HAMILTON #1</td>\n",
       "      <td>000D:6F00:015A:9D76</td>\n",
       "      <td>City of Palo Alto</td>\n",
       "      <td>7/30/2011 0:00</td>\n",
       "      <td>PDT</td>\n",
       "      <td>7/30/2011 0:02</td>\n",
       "      <td>PDT</td>\n",
       "      <td>7/30/2011 0:02</td>\n",
       "      <td>0:02:06</td>\n",
       "      <td>0:01:54</td>\n",
       "      <td>...</td>\n",
       "      <td>-122.160309</td>\n",
       "      <td>USD</td>\n",
       "      <td>0.0</td>\n",
       "      <td>Customer</td>\n",
       "      <td>4</td>\n",
       "      <td>94301.0</td>\n",
       "      <td>4169.0</td>\n",
       "      <td>NaN</td>\n",
       "      <td>NaN</td>\n",
       "      <td>NaN</td>\n",
       "    </tr>\n",
       "    <tr>\n",
       "      <th>2</th>\n",
       "      <td>PALO ALTO CA / HAMILTON #1</td>\n",
       "      <td>000D:6F00:015A:9D76</td>\n",
       "      <td>City of Palo Alto</td>\n",
       "      <td>7/30/2011 8:16</td>\n",
       "      <td>PDT</td>\n",
       "      <td>7/30/2011 12:34</td>\n",
       "      <td>PDT</td>\n",
       "      <td>7/30/2011 12:34</td>\n",
       "      <td>4:17:32</td>\n",
       "      <td>4:17:28</td>\n",
       "      <td>...</td>\n",
       "      <td>-122.160309</td>\n",
       "      <td>USD</td>\n",
       "      <td>0.0</td>\n",
       "      <td>Plug Out at Vehicle</td>\n",
       "      <td>5</td>\n",
       "      <td>94301.0</td>\n",
       "      <td>4169.0</td>\n",
       "      <td>NaN</td>\n",
       "      <td>NaN</td>\n",
       "      <td>NaN</td>\n",
       "    </tr>\n",
       "    <tr>\n",
       "      <th>3</th>\n",
       "      <td>PALO ALTO CA / HAMILTON #1</td>\n",
       "      <td>000D:6F00:015A:9D76</td>\n",
       "      <td>City of Palo Alto</td>\n",
       "      <td>7/30/2011 14:51</td>\n",
       "      <td>PDT</td>\n",
       "      <td>7/30/2011 16:55</td>\n",
       "      <td>PDT</td>\n",
       "      <td>7/30/2011 16:55</td>\n",
       "      <td>2:03:24</td>\n",
       "      <td>2:02:58</td>\n",
       "      <td>...</td>\n",
       "      <td>-122.160309</td>\n",
       "      <td>USD</td>\n",
       "      <td>0.0</td>\n",
       "      <td>Customer</td>\n",
       "      <td>6</td>\n",
       "      <td>94302.0</td>\n",
       "      <td>2545.0</td>\n",
       "      <td>NaN</td>\n",
       "      <td>NaN</td>\n",
       "      <td>NaN</td>\n",
       "    </tr>\n",
       "    <tr>\n",
       "      <th>4</th>\n",
       "      <td>PALO ALTO CA / HAMILTON #1</td>\n",
       "      <td>000D:6F00:015A:9D76</td>\n",
       "      <td>City of Palo Alto</td>\n",
       "      <td>7/30/2011 18:51</td>\n",
       "      <td>PDT</td>\n",
       "      <td>7/30/2011 20:03</td>\n",
       "      <td>PDT</td>\n",
       "      <td>7/30/2011 20:03</td>\n",
       "      <td>1:11:24</td>\n",
       "      <td>0:43:54</td>\n",
       "      <td>...</td>\n",
       "      <td>-122.160309</td>\n",
       "      <td>USD</td>\n",
       "      <td>0.0</td>\n",
       "      <td>Plug Out at Vehicle</td>\n",
       "      <td>7</td>\n",
       "      <td>94043.0</td>\n",
       "      <td>3765.0</td>\n",
       "      <td>NaN</td>\n",
       "      <td>NaN</td>\n",
       "      <td>NaN</td>\n",
       "    </tr>\n",
       "  </tbody>\n",
       "</table>\n",
       "<p>5 rows × 33 columns</p>\n",
       "</div>"
      ],
      "text/plain": [
       "                 Station Name          MAC Address           Org Name  \\\n",
       "0  PALO ALTO CA / HAMILTON #1  000D:6F00:015A:9D76  City of Palo Alto   \n",
       "1  PALO ALTO CA / HAMILTON #1  000D:6F00:015A:9D76  City of Palo Alto   \n",
       "2  PALO ALTO CA / HAMILTON #1  000D:6F00:015A:9D76  City of Palo Alto   \n",
       "3  PALO ALTO CA / HAMILTON #1  000D:6F00:015A:9D76  City of Palo Alto   \n",
       "4  PALO ALTO CA / HAMILTON #1  000D:6F00:015A:9D76  City of Palo Alto   \n",
       "\n",
       "        Start Date Start Time Zone         End Date End Time Zone  \\\n",
       "0  7/29/2011 20:17             PDT  7/29/2011 23:20           PDT   \n",
       "1   7/30/2011 0:00             PDT   7/30/2011 0:02           PDT   \n",
       "2   7/30/2011 8:16             PDT  7/30/2011 12:34           PDT   \n",
       "3  7/30/2011 14:51             PDT  7/30/2011 16:55           PDT   \n",
       "4  7/30/2011 18:51             PDT  7/30/2011 20:03           PDT   \n",
       "\n",
       "  Transaction Date Total Duration Charging Time  ...   Longitude  Currency  \\\n",
       "0  7/29/2011 23:20        3:03:32       1:54:03  ... -122.160309       USD   \n",
       "1   7/30/2011 0:02        0:02:06       0:01:54  ... -122.160309       USD   \n",
       "2  7/30/2011 12:34        4:17:32       4:17:28  ... -122.160309       USD   \n",
       "3  7/30/2011 16:55        2:03:24       2:02:58  ... -122.160309       USD   \n",
       "4  7/30/2011 20:03        1:11:24       0:43:54  ... -122.160309       USD   \n",
       "\n",
       "   Fee             Ended By  Plug In Event Id Driver Postal Code  User ID  \\\n",
       "0  0.0  Plug Out at Vehicle                 3            95124.0   3284.0   \n",
       "1  0.0             Customer                 4            94301.0   4169.0   \n",
       "2  0.0  Plug Out at Vehicle                 5            94301.0   4169.0   \n",
       "3  0.0             Customer                 6            94302.0   2545.0   \n",
       "4  0.0  Plug Out at Vehicle                 7            94043.0   3765.0   \n",
       "\n",
       "  County System S/N Model Number  \n",
       "0    NaN        NaN          NaN  \n",
       "1    NaN        NaN          NaN  \n",
       "2    NaN        NaN          NaN  \n",
       "3    NaN        NaN          NaN  \n",
       "4    NaN        NaN          NaN  \n",
       "\n",
       "[5 rows x 33 columns]"
      ]
     },
     "execution_count": 6,
     "metadata": {},
     "output_type": "execute_result"
    }
   ],
   "source": [
    "df.head()\n",
    "#MAC stands for Media Access Control address, MAC addresses are used as a way to uniquely identify a device on a network at the data link layer of the OSI model"
   ]
  },
  {
   "cell_type": "code",
   "execution_count": null,
   "id": "f3c7c899",
   "metadata": {},
   "outputs": [],
   "source": []
  },
  {
   "cell_type": "code",
   "execution_count": 7,
   "id": "b4ecf364",
   "metadata": {},
   "outputs": [
    {
     "name": "stdout",
     "output_type": "stream",
     "text": [
      "<class 'pandas.core.frame.DataFrame'>\n",
      "RangeIndex: 259415 entries, 0 to 259414\n",
      "Data columns (total 33 columns):\n",
      " #   Column              Non-Null Count   Dtype  \n",
      "---  ------              --------------   -----  \n",
      " 0   Station Name        259415 non-null  object \n",
      " 1   MAC Address         259415 non-null  object \n",
      " 2   Org Name            259415 non-null  object \n",
      " 3   Start Date          259415 non-null  object \n",
      " 4   Start Time Zone     259415 non-null  object \n",
      " 5   End Date            259415 non-null  object \n",
      " 6   End Time Zone       259415 non-null  object \n",
      " 7   Transaction Date    259206 non-null  object \n",
      " 8   Total Duration      259415 non-null  object \n",
      " 9   Charging Time       259415 non-null  object \n",
      " 10  Energy              259415 non-null  float64\n",
      " 11  GreenHouseGasSave   259415 non-null  float64\n",
      " 12  Gasoline Savings    259415 non-null  float64\n",
      " 13  Port Type           259406 non-null  object \n",
      " 14  Port Number         259415 non-null  int64  \n",
      " 15  Plug Type           259415 non-null  object \n",
      " 16  EVSE ID             180467 non-null  float64\n",
      " 17  Address 1           259415 non-null  object \n",
      " 18  City                259415 non-null  object \n",
      " 19  State/Province      259415 non-null  object \n",
      " 20  Postal Code         259415 non-null  int64  \n",
      " 21  Country             259415 non-null  object \n",
      " 22  Latitude            259415 non-null  float64\n",
      " 23  Longitude           259415 non-null  float64\n",
      " 24  Currency            257627 non-null  object \n",
      " 25  Fee                 259415 non-null  float64\n",
      " 26  Ended By            259167 non-null  object \n",
      " 27  Plug In Event Id    259415 non-null  int64  \n",
      " 28  Driver Postal Code  251013 non-null  float64\n",
      " 29  User ID             251738 non-null  object \n",
      " 30  County              174750 non-null  object \n",
      " 31  System S/N          180467 non-null  float64\n",
      " 32  Model Number        180467 non-null  object \n",
      "dtypes: float64(9), int64(3), object(21)\n",
      "memory usage: 65.3+ MB\n"
     ]
    }
   ],
   "source": [
    "df.info()"
   ]
  },
  {
   "cell_type": "code",
   "execution_count": 8,
   "id": "85d74ac8",
   "metadata": {},
   "outputs": [],
   "source": [
    "df = df.drop(columns=['Country','State/Province','Currency'])"
   ]
  },
  {
   "cell_type": "markdown",
   "id": "795ce9c6",
   "metadata": {},
   "source": [
    "Drop columns:\n",
    "Start Time Zone, End Time Zone. Report base on PDT no need to included in column\n",
    "Country, State/Province. Report is base on California State no need to include country and state\n",
    "Currency. No need to include currency "
   ]
  },
  {
   "cell_type": "code",
   "execution_count": 9,
   "id": "0c85c104",
   "metadata": {},
   "outputs": [],
   "source": [
    "#Write an utility function to perform basic data quality checks\n",
    "\n",
    "def basic_check(df):\n",
    "    \"\"\"\n",
    "    should return Number of rows, Number of columns, Missing values,\n",
    "    Duplicated columns, Duplicated rows\n",
    "    \"\"\"\n",
    "    \n",
    "    #take a look at the shape of dataset\n",
    "    print(f'There are {df.shape[0]} rows and {df.shape[1]} columns in the dataset.')\n",
    "    \n",
    "    #take a look at the unique datatypes:\n",
    "    print(f'Unique datatypes: {list(df.dtypes.unique())}')\n",
    "    \n",
    "    #check for missing values\n",
    "    print(f'Missing values: {df.isnull().sum().any()}')\n",
    "    \n",
    "    #check for duplicates\n",
    "    print(f'Duplicated columns: {df.T.duplicated().any()}')\n",
    "    \n",
    "    #row-level duplicates\n",
    "    print(f'Duplicated rows: {df.duplicated().any()}')"
   ]
  },
  {
   "cell_type": "code",
   "execution_count": 10,
   "id": "231359d2",
   "metadata": {},
   "outputs": [
    {
     "name": "stdout",
     "output_type": "stream",
     "text": [
      "There are 259415 rows and 30 columns in the dataset.\n",
      "Unique datatypes: [dtype('O'), dtype('float64'), dtype('int64')]\n",
      "Missing values: True\n",
      "Duplicated columns: False\n",
      "Duplicated rows: True\n"
     ]
    }
   ],
   "source": [
    "basic_check(df)"
   ]
  },
  {
   "cell_type": "code",
   "execution_count": 11,
   "id": "90c4bcdb",
   "metadata": {},
   "outputs": [
    {
     "data": {
      "text/html": [
       "<div>\n",
       "<style scoped>\n",
       "    .dataframe tbody tr th:only-of-type {\n",
       "        vertical-align: middle;\n",
       "    }\n",
       "\n",
       "    .dataframe tbody tr th {\n",
       "        vertical-align: top;\n",
       "    }\n",
       "\n",
       "    .dataframe thead th {\n",
       "        text-align: right;\n",
       "    }\n",
       "</style>\n",
       "<table border=\"1\" class=\"dataframe\">\n",
       "  <thead>\n",
       "    <tr style=\"text-align: right;\">\n",
       "      <th></th>\n",
       "      <th>count</th>\n",
       "      <th>mean</th>\n",
       "      <th>std</th>\n",
       "      <th>min</th>\n",
       "      <th>25%</th>\n",
       "      <th>50%</th>\n",
       "      <th>75%</th>\n",
       "      <th>max</th>\n",
       "    </tr>\n",
       "  </thead>\n",
       "  <tbody>\n",
       "    <tr>\n",
       "      <th>Energy</th>\n",
       "      <td>259415.0</td>\n",
       "      <td>8.544277e+00</td>\n",
       "      <td>7.185462e+00</td>\n",
       "      <td>1.000000e-02</td>\n",
       "      <td>3.784000e+00</td>\n",
       "      <td>6.868634e+00</td>\n",
       "      <td>1.145834e+01</td>\n",
       "      <td>9.736000e+01</td>\n",
       "    </tr>\n",
       "    <tr>\n",
       "      <th>GreenHouseGasSave</th>\n",
       "      <td>259415.0</td>\n",
       "      <td>3.588596e+00</td>\n",
       "      <td>3.017894e+00</td>\n",
       "      <td>4.000000e-03</td>\n",
       "      <td>1.589000e+00</td>\n",
       "      <td>2.885000e+00</td>\n",
       "      <td>4.813000e+00</td>\n",
       "      <td>4.089100e+01</td>\n",
       "    </tr>\n",
       "    <tr>\n",
       "      <th>Gasoline Savings</th>\n",
       "      <td>259415.0</td>\n",
       "      <td>1.072306e+00</td>\n",
       "      <td>9.017761e-01</td>\n",
       "      <td>1.000000e-03</td>\n",
       "      <td>4.750000e-01</td>\n",
       "      <td>8.620000e-01</td>\n",
       "      <td>1.438000e+00</td>\n",
       "      <td>1.221900e+01</td>\n",
       "    </tr>\n",
       "    <tr>\n",
       "      <th>Port Number</th>\n",
       "      <td>259415.0</td>\n",
       "      <td>1.591627e+00</td>\n",
       "      <td>4.915337e-01</td>\n",
       "      <td>1.000000e+00</td>\n",
       "      <td>1.000000e+00</td>\n",
       "      <td>2.000000e+00</td>\n",
       "      <td>2.000000e+00</td>\n",
       "      <td>2.000000e+00</td>\n",
       "    </tr>\n",
       "    <tr>\n",
       "      <th>EVSE ID</th>\n",
       "      <td>180467.0</td>\n",
       "      <td>1.462973e+05</td>\n",
       "      <td>2.429677e+05</td>\n",
       "      <td>3.792000e+03</td>\n",
       "      <td>4.358300e+04</td>\n",
       "      <td>1.074270e+05</td>\n",
       "      <td>1.745590e+05</td>\n",
       "      <td>5.535441e+06</td>\n",
       "    </tr>\n",
       "    <tr>\n",
       "      <th>Postal Code</th>\n",
       "      <td>259415.0</td>\n",
       "      <td>9.430232e+04</td>\n",
       "      <td>1.941657e+00</td>\n",
       "      <td>9.430100e+04</td>\n",
       "      <td>9.430100e+04</td>\n",
       "      <td>9.430100e+04</td>\n",
       "      <td>9.430300e+04</td>\n",
       "      <td>9.430600e+04</td>\n",
       "    </tr>\n",
       "    <tr>\n",
       "      <th>Latitude</th>\n",
       "      <td>259415.0</td>\n",
       "      <td>3.743956e+01</td>\n",
       "      <td>9.621170e-03</td>\n",
       "      <td>3.742210e+01</td>\n",
       "      <td>3.742832e+01</td>\n",
       "      <td>3.744449e+01</td>\n",
       "      <td>3.744661e+01</td>\n",
       "      <td>3.744938e+01</td>\n",
       "    </tr>\n",
       "    <tr>\n",
       "      <th>Longitude</th>\n",
       "      <td>259415.0</td>\n",
       "      <td>-1.221513e+02</td>\n",
       "      <td>1.538203e-02</td>\n",
       "      <td>-1.221632e+02</td>\n",
       "      <td>-1.221622e+02</td>\n",
       "      <td>-1.221583e+02</td>\n",
       "      <td>-1.221457e+02</td>\n",
       "      <td>-1.221125e+02</td>\n",
       "    </tr>\n",
       "    <tr>\n",
       "      <th>Fee</th>\n",
       "      <td>259415.0</td>\n",
       "      <td>1.097481e+00</td>\n",
       "      <td>1.934408e+00</td>\n",
       "      <td>0.000000e+00</td>\n",
       "      <td>0.000000e+00</td>\n",
       "      <td>0.000000e+00</td>\n",
       "      <td>1.640000e+00</td>\n",
       "      <td>8.456000e+01</td>\n",
       "    </tr>\n",
       "    <tr>\n",
       "      <th>Plug In Event Id</th>\n",
       "      <td>259415.0</td>\n",
       "      <td>1.188685e+08</td>\n",
       "      <td>4.057750e+08</td>\n",
       "      <td>1.000000e+00</td>\n",
       "      <td>1.573000e+03</td>\n",
       "      <td>3.573000e+03</td>\n",
       "      <td>6.340000e+03</td>\n",
       "      <td>1.609436e+09</td>\n",
       "    </tr>\n",
       "    <tr>\n",
       "      <th>Driver Postal Code</th>\n",
       "      <td>251013.0</td>\n",
       "      <td>9.417031e+04</td>\n",
       "      <td>4.249837e+03</td>\n",
       "      <td>1.013000e+03</td>\n",
       "      <td>9.408700e+04</td>\n",
       "      <td>9.430400e+04</td>\n",
       "      <td>9.480400e+04</td>\n",
       "      <td>9.935400e+04</td>\n",
       "    </tr>\n",
       "    <tr>\n",
       "      <th>System S/N</th>\n",
       "      <td>180467.0</td>\n",
       "      <td>1.443790e+11</td>\n",
       "      <td>2.483280e+10</td>\n",
       "      <td>1.023100e+11</td>\n",
       "      <td>1.231100e+11</td>\n",
       "      <td>1.427410e+11</td>\n",
       "      <td>1.705410e+11</td>\n",
       "      <td>2.002410e+11</td>\n",
       "    </tr>\n",
       "  </tbody>\n",
       "</table>\n",
       "</div>"
      ],
      "text/plain": [
       "                       count          mean           std           min  \\\n",
       "Energy              259415.0  8.544277e+00  7.185462e+00  1.000000e-02   \n",
       "GreenHouseGasSave   259415.0  3.588596e+00  3.017894e+00  4.000000e-03   \n",
       "Gasoline Savings    259415.0  1.072306e+00  9.017761e-01  1.000000e-03   \n",
       "Port Number         259415.0  1.591627e+00  4.915337e-01  1.000000e+00   \n",
       "EVSE ID             180467.0  1.462973e+05  2.429677e+05  3.792000e+03   \n",
       "Postal Code         259415.0  9.430232e+04  1.941657e+00  9.430100e+04   \n",
       "Latitude            259415.0  3.743956e+01  9.621170e-03  3.742210e+01   \n",
       "Longitude           259415.0 -1.221513e+02  1.538203e-02 -1.221632e+02   \n",
       "Fee                 259415.0  1.097481e+00  1.934408e+00  0.000000e+00   \n",
       "Plug In Event Id    259415.0  1.188685e+08  4.057750e+08  1.000000e+00   \n",
       "Driver Postal Code  251013.0  9.417031e+04  4.249837e+03  1.013000e+03   \n",
       "System S/N          180467.0  1.443790e+11  2.483280e+10  1.023100e+11   \n",
       "\n",
       "                             25%           50%           75%           max  \n",
       "Energy              3.784000e+00  6.868634e+00  1.145834e+01  9.736000e+01  \n",
       "GreenHouseGasSave   1.589000e+00  2.885000e+00  4.813000e+00  4.089100e+01  \n",
       "Gasoline Savings    4.750000e-01  8.620000e-01  1.438000e+00  1.221900e+01  \n",
       "Port Number         1.000000e+00  2.000000e+00  2.000000e+00  2.000000e+00  \n",
       "EVSE ID             4.358300e+04  1.074270e+05  1.745590e+05  5.535441e+06  \n",
       "Postal Code         9.430100e+04  9.430100e+04  9.430300e+04  9.430600e+04  \n",
       "Latitude            3.742832e+01  3.744449e+01  3.744661e+01  3.744938e+01  \n",
       "Longitude          -1.221622e+02 -1.221583e+02 -1.221457e+02 -1.221125e+02  \n",
       "Fee                 0.000000e+00  0.000000e+00  1.640000e+00  8.456000e+01  \n",
       "Plug In Event Id    1.573000e+03  3.573000e+03  6.340000e+03  1.609436e+09  \n",
       "Driver Postal Code  9.408700e+04  9.430400e+04  9.480400e+04  9.935400e+04  \n",
       "System S/N          1.231100e+11  1.427410e+11  1.705410e+11  2.002410e+11  "
      ]
     },
     "execution_count": 11,
     "metadata": {},
     "output_type": "execute_result"
    }
   ],
   "source": [
    "df.describe().T\n",
    "#Univartriate Analysis\n",
    "#This dataset contains only numerical values\n",
    "#Summary statistic"
   ]
  },
  {
   "cell_type": "code",
   "execution_count": 12,
   "id": "5f071895",
   "metadata": {},
   "outputs": [
    {
     "data": {
      "text/plain": [
       "Station Name\n",
       " HAMILTON #2        23721\n",
       " HAMILTON #1        14888\n",
       " WEBSTER #1         14432\n",
       " BRYANT #2          14389\n",
       " HIGH #4            13898\n",
       " BRYANT #1          13436\n",
       " WEBSTER #2         12669\n",
       " CAMBRIDGE #1       11163\n",
       " HIGH #1            10756\n",
       " WEBSTER #3         10484\n",
       " TED THOMPSON #1     9814\n",
       " CAMBRIDGE #2        9256\n",
       " MPL #6              8996\n",
       " HIGH #3             8317\n",
       " MPL #4              7787\n",
       " MPL #5              7544\n",
       " HIGH #2             6930\n",
       " RINCONADA LIB 3     6499\n",
       " RINCONADA LIB 1     6212\n",
       " BRYANT #6           5857\n",
       " RINCONADA LIB 2     5553\n",
       " BRYANT #5           5332\n",
       " CAMBRIDGE #5        4556\n",
       " CAMBRIDGE #3        4476\n",
       " BRYANT #3           4475\n",
       " BRYANT #4           3598\n",
       " CAMBRIDGE #4        3428\n",
       " TED THOMPSON #3     2455\n",
       " TED THOMPSON #4     2226\n",
       " TED THOMPSON #2     2217\n",
       " MPL #2              1535\n",
       " MPL #3              1420\n",
       " MPL #1              1044\n",
       " BRYANT # 1            13\n",
       " SHERMAN 3              8\n",
       " SHERMAN 1              7\n",
       " SHERMAN 2              4\n",
       " SHERMAN 4              4\n",
       " SHERMAN 7              4\n",
       " SHERMAN 6              3\n",
       " SHERMAN 8              2\n",
       " SHERMAN 14             2\n",
       " SHERMAN 9              1\n",
       " SHERMAN 5              1\n",
       " SHERMAN 15             1\n",
       " SHERMAN 11             1\n",
       " SHERMAN 17             1\n",
       "Name: count, dtype: int64"
      ]
     },
     "execution_count": 12,
     "metadata": {},
     "output_type": "execute_result"
    }
   ],
   "source": [
    "df['Station Name'] = df['Station Name'].str.replace('PALO ALTO CA /','')\n",
    "df['Station Name'].value_counts()"
   ]
  },
  {
   "cell_type": "code",
   "execution_count": 13,
   "id": "6f3c063f",
   "metadata": {},
   "outputs": [
    {
     "data": {
      "text/plain": [
       "Index(['Station Name', 'MAC Address', 'Org Name', 'Start Date',\n",
       "       'Start Time Zone', 'End Date', 'End Time Zone', 'Transaction Date',\n",
       "       'Total Duration', 'Charging Time', 'Energy', 'GreenHouseGasSave',\n",
       "       'Gasoline Savings', 'Port Type', 'Port Number', 'Plug Type', 'EVSE ID',\n",
       "       'Address 1', 'City', 'Postal Code', 'Latitude', 'Longitude', 'Fee',\n",
       "       'Ended By', 'Plug In Event Id', 'Driver Postal Code', 'User ID',\n",
       "       'County', 'System S/N', 'Model Number'],\n",
       "      dtype='object')"
      ]
     },
     "execution_count": 13,
     "metadata": {},
     "output_type": "execute_result"
    }
   ],
   "source": [
    "df.columns"
   ]
  },
  {
   "cell_type": "code",
   "execution_count": 14,
   "id": "524f0a8a",
   "metadata": {},
   "outputs": [],
   "source": [
    "df['Station Name'] = df['Station Name'].replace({'BRYANT # 1': 'BRYANT #1'})"
   ]
  },
  {
   "cell_type": "code",
   "execution_count": 15,
   "id": "9cfe6707",
   "metadata": {},
   "outputs": [],
   "source": [
    "\n",
    "#Convert columns TotalDuration and charging time to seconds\n",
    "\n",
    "df['Total Duration'] = pd.to_timedelta(df['Total Duration']).dt.total_seconds()\n",
    "df['Charging Time'] = pd.to_timedelta(df['Charging Time']).dt.total_seconds()\n",
    "df['TimeAfterCharged'] = (df['Total Duration'] - df['Charging Time']) / 60\n",
    "\n"
   ]
  },
  {
   "cell_type": "code",
   "execution_count": 16,
   "id": "dbdfcada",
   "metadata": {
    "scrolled": true
   },
   "outputs": [
    {
     "data": {
      "text/html": [
       "<div>\n",
       "<style scoped>\n",
       "    .dataframe tbody tr th:only-of-type {\n",
       "        vertical-align: middle;\n",
       "    }\n",
       "\n",
       "    .dataframe tbody tr th {\n",
       "        vertical-align: top;\n",
       "    }\n",
       "\n",
       "    .dataframe thead th {\n",
       "        text-align: right;\n",
       "    }\n",
       "</style>\n",
       "<table border=\"1\" class=\"dataframe\">\n",
       "  <thead>\n",
       "    <tr style=\"text-align: right;\">\n",
       "      <th></th>\n",
       "      <th>Station Name</th>\n",
       "      <th>MAC Address</th>\n",
       "      <th>Org Name</th>\n",
       "      <th>Start Date</th>\n",
       "      <th>Start Time Zone</th>\n",
       "      <th>End Date</th>\n",
       "      <th>End Time Zone</th>\n",
       "      <th>Transaction Date</th>\n",
       "      <th>Total Duration</th>\n",
       "      <th>Charging Time</th>\n",
       "      <th>...</th>\n",
       "      <th>Longitude</th>\n",
       "      <th>Fee</th>\n",
       "      <th>Ended By</th>\n",
       "      <th>Plug In Event Id</th>\n",
       "      <th>Driver Postal Code</th>\n",
       "      <th>User ID</th>\n",
       "      <th>County</th>\n",
       "      <th>System S/N</th>\n",
       "      <th>Model Number</th>\n",
       "      <th>TimeAfterCharged</th>\n",
       "    </tr>\n",
       "  </thead>\n",
       "  <tbody>\n",
       "    <tr>\n",
       "      <th>0</th>\n",
       "      <td>HAMILTON #1</td>\n",
       "      <td>000D:6F00:015A:9D76</td>\n",
       "      <td>City of Palo Alto</td>\n",
       "      <td>7/29/2011 20:17</td>\n",
       "      <td>PDT</td>\n",
       "      <td>7/29/2011 23:20</td>\n",
       "      <td>PDT</td>\n",
       "      <td>7/29/2011 23:20</td>\n",
       "      <td>11012.0</td>\n",
       "      <td>6843.0</td>\n",
       "      <td>...</td>\n",
       "      <td>-122.160309</td>\n",
       "      <td>0.0</td>\n",
       "      <td>Plug Out at Vehicle</td>\n",
       "      <td>3</td>\n",
       "      <td>95124.0</td>\n",
       "      <td>3284.0</td>\n",
       "      <td>NaN</td>\n",
       "      <td>NaN</td>\n",
       "      <td>NaN</td>\n",
       "      <td>69.483333</td>\n",
       "    </tr>\n",
       "    <tr>\n",
       "      <th>1</th>\n",
       "      <td>HAMILTON #1</td>\n",
       "      <td>000D:6F00:015A:9D76</td>\n",
       "      <td>City of Palo Alto</td>\n",
       "      <td>7/30/2011 0:00</td>\n",
       "      <td>PDT</td>\n",
       "      <td>7/30/2011 0:02</td>\n",
       "      <td>PDT</td>\n",
       "      <td>7/30/2011 0:02</td>\n",
       "      <td>126.0</td>\n",
       "      <td>114.0</td>\n",
       "      <td>...</td>\n",
       "      <td>-122.160309</td>\n",
       "      <td>0.0</td>\n",
       "      <td>Customer</td>\n",
       "      <td>4</td>\n",
       "      <td>94301.0</td>\n",
       "      <td>4169.0</td>\n",
       "      <td>NaN</td>\n",
       "      <td>NaN</td>\n",
       "      <td>NaN</td>\n",
       "      <td>0.200000</td>\n",
       "    </tr>\n",
       "    <tr>\n",
       "      <th>2</th>\n",
       "      <td>HAMILTON #1</td>\n",
       "      <td>000D:6F00:015A:9D76</td>\n",
       "      <td>City of Palo Alto</td>\n",
       "      <td>7/30/2011 8:16</td>\n",
       "      <td>PDT</td>\n",
       "      <td>7/30/2011 12:34</td>\n",
       "      <td>PDT</td>\n",
       "      <td>7/30/2011 12:34</td>\n",
       "      <td>15452.0</td>\n",
       "      <td>15448.0</td>\n",
       "      <td>...</td>\n",
       "      <td>-122.160309</td>\n",
       "      <td>0.0</td>\n",
       "      <td>Plug Out at Vehicle</td>\n",
       "      <td>5</td>\n",
       "      <td>94301.0</td>\n",
       "      <td>4169.0</td>\n",
       "      <td>NaN</td>\n",
       "      <td>NaN</td>\n",
       "      <td>NaN</td>\n",
       "      <td>0.066667</td>\n",
       "    </tr>\n",
       "    <tr>\n",
       "      <th>3</th>\n",
       "      <td>HAMILTON #1</td>\n",
       "      <td>000D:6F00:015A:9D76</td>\n",
       "      <td>City of Palo Alto</td>\n",
       "      <td>7/30/2011 14:51</td>\n",
       "      <td>PDT</td>\n",
       "      <td>7/30/2011 16:55</td>\n",
       "      <td>PDT</td>\n",
       "      <td>7/30/2011 16:55</td>\n",
       "      <td>7404.0</td>\n",
       "      <td>7378.0</td>\n",
       "      <td>...</td>\n",
       "      <td>-122.160309</td>\n",
       "      <td>0.0</td>\n",
       "      <td>Customer</td>\n",
       "      <td>6</td>\n",
       "      <td>94302.0</td>\n",
       "      <td>2545.0</td>\n",
       "      <td>NaN</td>\n",
       "      <td>NaN</td>\n",
       "      <td>NaN</td>\n",
       "      <td>0.433333</td>\n",
       "    </tr>\n",
       "    <tr>\n",
       "      <th>4</th>\n",
       "      <td>HAMILTON #1</td>\n",
       "      <td>000D:6F00:015A:9D76</td>\n",
       "      <td>City of Palo Alto</td>\n",
       "      <td>7/30/2011 18:51</td>\n",
       "      <td>PDT</td>\n",
       "      <td>7/30/2011 20:03</td>\n",
       "      <td>PDT</td>\n",
       "      <td>7/30/2011 20:03</td>\n",
       "      <td>4284.0</td>\n",
       "      <td>2634.0</td>\n",
       "      <td>...</td>\n",
       "      <td>-122.160309</td>\n",
       "      <td>0.0</td>\n",
       "      <td>Plug Out at Vehicle</td>\n",
       "      <td>7</td>\n",
       "      <td>94043.0</td>\n",
       "      <td>3765.0</td>\n",
       "      <td>NaN</td>\n",
       "      <td>NaN</td>\n",
       "      <td>NaN</td>\n",
       "      <td>27.500000</td>\n",
       "    </tr>\n",
       "  </tbody>\n",
       "</table>\n",
       "<p>5 rows × 31 columns</p>\n",
       "</div>"
      ],
      "text/plain": [
       "   Station Name          MAC Address           Org Name       Start Date  \\\n",
       "0   HAMILTON #1  000D:6F00:015A:9D76  City of Palo Alto  7/29/2011 20:17   \n",
       "1   HAMILTON #1  000D:6F00:015A:9D76  City of Palo Alto   7/30/2011 0:00   \n",
       "2   HAMILTON #1  000D:6F00:015A:9D76  City of Palo Alto   7/30/2011 8:16   \n",
       "3   HAMILTON #1  000D:6F00:015A:9D76  City of Palo Alto  7/30/2011 14:51   \n",
       "4   HAMILTON #1  000D:6F00:015A:9D76  City of Palo Alto  7/30/2011 18:51   \n",
       "\n",
       "  Start Time Zone         End Date End Time Zone Transaction Date  \\\n",
       "0             PDT  7/29/2011 23:20           PDT  7/29/2011 23:20   \n",
       "1             PDT   7/30/2011 0:02           PDT   7/30/2011 0:02   \n",
       "2             PDT  7/30/2011 12:34           PDT  7/30/2011 12:34   \n",
       "3             PDT  7/30/2011 16:55           PDT  7/30/2011 16:55   \n",
       "4             PDT  7/30/2011 20:03           PDT  7/30/2011 20:03   \n",
       "\n",
       "   Total Duration  Charging Time  ...   Longitude  Fee             Ended By  \\\n",
       "0         11012.0         6843.0  ... -122.160309  0.0  Plug Out at Vehicle   \n",
       "1           126.0          114.0  ... -122.160309  0.0             Customer   \n",
       "2         15452.0        15448.0  ... -122.160309  0.0  Plug Out at Vehicle   \n",
       "3          7404.0         7378.0  ... -122.160309  0.0             Customer   \n",
       "4          4284.0         2634.0  ... -122.160309  0.0  Plug Out at Vehicle   \n",
       "\n",
       "  Plug In Event Id  Driver Postal Code User ID  County System S/N  \\\n",
       "0                3             95124.0  3284.0     NaN        NaN   \n",
       "1                4             94301.0  4169.0     NaN        NaN   \n",
       "2                5             94301.0  4169.0     NaN        NaN   \n",
       "3                6             94302.0  2545.0     NaN        NaN   \n",
       "4                7             94043.0  3765.0     NaN        NaN   \n",
       "\n",
       "  Model Number  TimeAfterCharged  \n",
       "0          NaN         69.483333  \n",
       "1          NaN          0.200000  \n",
       "2          NaN          0.066667  \n",
       "3          NaN          0.433333  \n",
       "4          NaN         27.500000  \n",
       "\n",
       "[5 rows x 31 columns]"
      ]
     },
     "execution_count": 16,
     "metadata": {},
     "output_type": "execute_result"
    }
   ],
   "source": [
    "df.head()"
   ]
  },
  {
   "cell_type": "code",
   "execution_count": 17,
   "id": "b05c6ad2",
   "metadata": {},
   "outputs": [
    {
     "data": {
      "text/plain": [
       "Postal Code\n",
       "94301    163195\n",
       "94306     49630\n",
       "94303     46590\n",
       "Name: count, dtype: int64"
      ]
     },
     "execution_count": 17,
     "metadata": {},
     "output_type": "execute_result"
    }
   ],
   "source": [
    "df['Postal Code'].value_counts()"
   ]
  },
  {
   "cell_type": "code",
   "execution_count": 18,
   "id": "8ba15f0c",
   "metadata": {},
   "outputs": [
    {
     "data": {
      "text/plain": [
       "Address 1\n",
       "250 Hamilton Ave       38609\n",
       "528 High St            37836\n",
       "3700 Middlefield Rd    28326\n",
       "520 Webster St         25173\n",
       "445 Bryant St          24323\n",
       "Bryant St              22777\n",
       "475 Cambridge Ave      20230\n",
       "275 Cambridge Ave      16712\n",
       "400 Cambridge Ave      12649\n",
       "1213 Newell Rd         12249\n",
       "532 Webster St         12015\n",
       "1520 Walnut Dr          3845\n",
       "1514 Walnut Dr          2170\n",
       "528 high st             1193\n",
       "528 High St.             872\n",
       "500-532 Webster St       367\n",
       "350 Sherman Ave           34\n",
       "520 Cowper St             19\n",
       "533 Cowper St             11\n",
       "358 Sherman Ave            5\n",
       "Name: count, dtype: int64"
      ]
     },
     "execution_count": 18,
     "metadata": {},
     "output_type": "execute_result"
    }
   ],
   "source": [
    "df['Address 1'].value_counts()"
   ]
  },
  {
   "cell_type": "code",
   "execution_count": 19,
   "id": "87cb2e1b",
   "metadata": {},
   "outputs": [
    {
     "data": {
      "text/plain": [
       "Address 1            Postal Code\n",
       "1213 Newell Rd       94303          126.926699\n",
       "1514 Walnut Dr       94303          111.107373\n",
       "1520 Walnut Dr       94303          114.623853\n",
       "250 Hamilton Ave     94301          122.241453\n",
       "275 Cambridge Ave    94306          133.946119\n",
       "350 Sherman Ave      94306          142.020588\n",
       "358 Sherman Ave      94306          168.450000\n",
       "3700 Middlefield Rd  94303          113.881894\n",
       "400 Cambridge Ave    94306          120.582837\n",
       "445 Bryant St        94301          121.150857\n",
       "475 Cambridge Ave    94306           98.998435\n",
       "500-532 Webster St   94301          111.740827\n",
       "520 Cowper St        94301          132.088596\n",
       "520 Webster St       94301          126.352806\n",
       "528 High St          94301          114.994926\n",
       "528 High St.         94301          114.258161\n",
       "528 high st          94301          124.862406\n",
       "532 Webster St       94301          132.731504\n",
       "533 Cowper St        94301          132.372727\n",
       "Bryant St            94301          122.723700\n",
       "Name: Charging Time, dtype: float64"
      ]
     },
     "execution_count": 19,
     "metadata": {},
     "output_type": "execute_result"
    }
   ],
   "source": [
    "df.groupby(['Address 1','Postal Code'])['Charging Time'].mean()/60\n",
    "#Find the mean of charging time per address and postal code"
   ]
  },
  {
   "cell_type": "code",
   "execution_count": 20,
   "id": "5c7e7ebc",
   "metadata": {},
   "outputs": [
    {
     "data": {
      "text/plain": [
       "Station Name  Address 1      \n",
       " SHERMAN 8    350 Sherman Ave    342.808333\n",
       " SHERMAN 7    358 Sherman Ave    192.383333\n",
       " SHERMAN 11   350 Sherman Ave    177.800000\n",
       " SHERMAN 1    350 Sherman Ave    175.871429\n",
       " SHERMAN 3    350 Sherman Ave    146.033333\n",
       "                                    ...    \n",
       " SHERMAN 14   350 Sherman Ave     91.325000\n",
       " SHERMAN 17   358 Sherman Ave     72.716667\n",
       " HIGH #3      528 High St.        62.150000\n",
       " SHERMAN 9    350 Sherman Ave     48.150000\n",
       " SHERMAN 5    350 Sherman Ave     28.800000\n",
       "Name: Charging Time, Length: 63, dtype: float64"
      ]
     },
     "execution_count": 20,
     "metadata": {},
     "output_type": "execute_result"
    }
   ],
   "source": [
    "avgTimeBy_St = df.groupby(['Station Name', 'Address 1'])['Charging Time'].mean() / 60\n",
    "avgTimeBy_St.sort_values(ascending=False)\n",
    "#changing it to minute \n",
    "#average charging time by station\n"
   ]
  },
  {
   "cell_type": "code",
   "execution_count": 21,
   "id": "c6a420d2",
   "metadata": {
    "scrolled": true
   },
   "outputs": [
    {
     "data": {
      "image/png": "[encoded data removed]",
      "text/plain": [
       "<Figure size 1200x1200 with 1 Axes>"
      ]
     },
     "metadata": {},
     "output_type": "display_data"
    }
   ],
   "source": [
    "#create histogram to show \n",
    "plt.figure(figsize = (12,12))\n",
    "avgPerStation = df.groupby('Station Name')['Charging Time'].mean()/60 #convert back to minute fore readablity\n",
    "avgPerStations = avgPerStation.sort_values(ascending=False)\n",
    "avgPerStations.plot(kind='bar', color='green')\n",
    "plt.title('Average Charging Time by Station')\n",
    "plt.xlabel('Station Name')\n",
    "plt.ylabel('Average Charging Time by Minute')\n",
    "plt.show()"
   ]
  },
  {
   "cell_type": "markdown",
   "id": "9c652212",
   "metadata": {},
   "source": [
    "Average time of Sherman 8 station is 342.808333 and address is 350 Sherman Ave."
   ]
  },
  {
   "cell_type": "code",
   "execution_count": 22,
   "id": "1b8e525f",
   "metadata": {
    "scrolled": true
   },
   "outputs": [
    {
     "data": {
      "text/plain": [
       "Index(['Station Name', 'MAC Address', 'Org Name', 'Start Date',\n",
       "       'Start Time Zone', 'End Date', 'End Time Zone', 'Transaction Date',\n",
       "       'Total Duration', 'Charging Time', 'Energy', 'GreenHouseGasSave',\n",
       "       'Gasoline Savings', 'Port Type', 'Port Number', 'Plug Type', 'EVSE ID',\n",
       "       'Address 1', 'City', 'Postal Code', 'Latitude', 'Longitude', 'Fee',\n",
       "       'Ended By', 'Plug In Event Id', 'Driver Postal Code', 'User ID',\n",
       "       'County', 'System S/N', 'Model Number', 'TimeAfterCharged'],\n",
       "      dtype='object')"
      ]
     },
     "execution_count": 22,
     "metadata": {},
     "output_type": "execute_result"
    }
   ],
   "source": [
    "df.columns\n",
    "\n"
   ]
  },
  {
   "cell_type": "markdown",
   "id": "312d5a76",
   "metadata": {},
   "source": [
    "Dec 20 EDA process\n"
   ]
  },
  {
   "cell_type": "code",
   "execution_count": 34,
   "id": "dca95542",
   "metadata": {},
   "outputs": [],
   "source": [
    "df['Station Name'] = df['Station Name'].str.replace('BRYANT # 1', 'BRYANT #1')"
   ]
  },
  {
   "cell_type": "code",
   "execution_count": 38,
   "id": "8bfdfad1",
   "metadata": {},
   "outputs": [],
   "source": [
    "df['Total_Amount_For_Charging']  = df['Fee'] * df['Charging Time']"
   ]
  },
  {
   "cell_type": "code",
   "execution_count": 39,
   "id": "735855c5",
   "metadata": {
    "scrolled": true
   },
   "outputs": [
    {
     "data": {
      "text/plain": [
       "Station Name\n",
       " BRYANT #1          4.728928e+07\n",
       " BRYANT #2          5.169818e+07\n",
       " BRYANT #3          4.863892e+07\n",
       " BRYANT #4          9.774737e+07\n",
       " BRYANT #5          1.249349e+08\n",
       " BRYANT #6          1.495086e+08\n",
       " CAMBRIDGE #1       1.289494e+08\n",
       " CAMBRIDGE #2       7.702849e+07\n",
       " CAMBRIDGE #3       7.540950e+07\n",
       " CAMBRIDGE #4       5.754512e+07\n",
       " CAMBRIDGE #5       9.685652e+07\n",
       " HAMILTON #1        7.791914e+07\n",
       " HAMILTON #2        2.182681e+08\n",
       " HIGH #1            9.865861e+07\n",
       " HIGH #2            1.226834e+08\n",
       " HIGH #3            1.433132e+08\n",
       " HIGH #4            8.803962e+07\n",
       " MPL #1             3.131044e+06\n",
       " MPL #2             6.068427e+06\n",
       " MPL #3             2.714048e+06\n",
       " MPL #4             8.252962e+07\n",
       " MPL #5             7.382637e+07\n",
       " MPL #6             9.327897e+07\n",
       " RINCONADA LIB 1    8.154246e+07\n",
       " RINCONADA LIB 2    7.195376e+07\n",
       " RINCONADA LIB 3    7.036678e+07\n",
       " SHERMAN 1          3.841790e+05\n",
       " SHERMAN 11         4.213860e+04\n",
       " SHERMAN 14         2.389140e+04\n",
       " SHERMAN 15         1.652364e+04\n",
       " SHERMAN 17         6.806280e+03\n",
       " SHERMAN 2          8.446902e+04\n",
       " SHERMAN 3          3.041635e+05\n",
       " SHERMAN 4          4.348630e+04\n",
       " SHERMAN 5          5.702400e+02\n",
       " SHERMAN 6          8.266057e+04\n",
       " SHERMAN 7          2.638402e+05\n",
       " SHERMAN 8          6.279352e+05\n",
       " SHERMAN 9          3.264570e+03\n",
       " TED THOMPSON #1    1.512501e+08\n",
       " TED THOMPSON #2    7.935201e+07\n",
       " TED THOMPSON #3    7.100276e+07\n",
       " TED THOMPSON #4    5.862945e+07\n",
       " WEBSTER #1         2.085271e+08\n",
       " WEBSTER #2         1.691002e+08\n",
       " WEBSTER #3         1.380987e+08\n",
       "Name: Total_Amount_For_Charging, dtype: float64"
      ]
     },
     "execution_count": 39,
     "metadata": {},
     "output_type": "execute_result"
    }
   ],
   "source": [
    "df.groupby('Station Name')['Total_Amount_For_Charging'].sum()\n"
   ]
  },
  {
   "cell_type": "markdown",
   "id": "cd63f7b5",
   "metadata": {},
   "source": [
    "Total charging fee accumulate over 9 years"
   ]
  },
  {
   "cell_type": "code",
   "execution_count": 45,
   "id": "e14bffb2",
   "metadata": {},
   "outputs": [
    {
     "data": {
      "image/png": "[encoded data removed]",
      "text/plain": [
       "<Figure size 1200x1200 with 1 Axes>"
      ]
     },
     "metadata": {},
     "output_type": "display_data"
    }
   ],
   "source": [
    "#create histogram and see which station has highest \n",
    "plt.figure(figsize=(12,12))\n",
    "totalAmount = df.groupby('Station Name')['Total_Amount_For_Charging'].sum()\n",
    "total_Amount = totalAmount.sort_values(ascending=False)\n",
    "total_Amount.plot(kind='bar', color = 'green')\n",
    "plt.title('Total Sale Per Charging Station Over 9 Years')\n",
    "plt.xlabel('Station Name')\n",
    "plt.ylabel('Total Charging Fees')\n",
    "plt.show()\n"
   ]
  },
  {
   "cell_type": "code",
   "execution_count": 46,
   "id": "18c9e956",
   "metadata": {},
   "outputs": [],
   "source": [
    "#plt.figure(figsize=(14,8))\n",
    "#sns.regplot(x=df['Address 1'], y = df['GreenHouseGasSave'] )\n",
    "#sns.despine()\n",
    "#plt.title(\"Address 1 vs charging Time\")\n"
   ]
  },
  {
   "cell_type": "code",
   "execution_count": 23,
   "id": "8e13b87e",
   "metadata": {},
   "outputs": [
    {
     "name": "stdout",
     "output_type": "stream",
     "text": [
      "Station Name          0\n",
      "MAC Address           0\n",
      "Org Name              0\n",
      "Start Date            0\n",
      "Start Time Zone       0\n",
      "End Date              0\n",
      "End Time Zone         0\n",
      "Transaction Date      0\n",
      "Total Duration        0\n",
      "Charging Time         0\n",
      "Energy                0\n",
      "GreenHouseGasSave     0\n",
      "Gasoline Savings      0\n",
      "Port Type             0\n",
      "Port Number           0\n",
      "Plug Type             0\n",
      "EVSE ID               0\n",
      "Address 1             0\n",
      "City                  0\n",
      "Postal Code           0\n",
      "Latitude              0\n",
      "Longitude             0\n",
      "Fee                   0\n",
      "Ended By              0\n",
      "Plug In Event Id      0\n",
      "Driver Postal Code    0\n",
      "User ID               0\n",
      "County                0\n",
      "System S/N            0\n",
      "Model Number          0\n",
      "TimeAfterCharged      0\n",
      "dtype: int64\n"
     ]
    }
   ],
   "source": [
    "#Display column names and cunt with Nulls\n",
    "print(df[df == np.inf].count())"
   ]
  },
  {
   "cell_type": "code",
   "execution_count": 27,
   "id": "b7d76ae4",
   "metadata": {},
   "outputs": [
    {
     "data": {
      "text/plain": [
       "County\n",
       "Santa Clara County    147263\n",
       "San Mateo County       27487\n",
       "Name: count, dtype: int64"
      ]
     },
     "execution_count": 27,
     "metadata": {},
     "output_type": "execute_result"
    }
   ],
   "source": [
    "df['County'].value_counts()"
   ]
  },
  {
   "cell_type": "code",
   "execution_count": 28,
   "id": "de6db0c3",
   "metadata": {},
   "outputs": [
    {
     "data": {
      "text/plain": [
       "84665"
      ]
     },
     "execution_count": 28,
     "metadata": {},
     "output_type": "execute_result"
    }
   ],
   "source": [
    "df['County'].isna().sum()"
   ]
  },
  {
   "cell_type": "code",
   "execution_count": 30,
   "id": "87466d3c",
   "metadata": {},
   "outputs": [
    {
     "data": {
      "text/plain": [
       "Station Name  Address 1     \n",
       " BRYANT # 1   445 Bryant St        54.65\n",
       " BRYANT #1    445 Bryant St      4479.07\n",
       "              Bryant St             0.00\n",
       " BRYANT #2    445 Bryant St      4990.83\n",
       "              Bryant St             0.00\n",
       "                                  ...   \n",
       " WEBSTER #2   520 Webster St    15571.17\n",
       "              532 Webster St        0.00\n",
       " WEBSTER #3   520 Cowper St         0.00\n",
       "              520 Webster St    13066.16\n",
       "              533 Cowper St         0.00\n",
       "Name: Fee, Length: 63, dtype: float64"
      ]
     },
     "execution_count": 30,
     "metadata": {},
     "output_type": "execute_result"
    }
   ],
   "source": [
    "df.groupby(['Station Name','Address 1'])['Fee'].sum()"
   ]
  },
  {
   "cell_type": "code",
   "execution_count": 47,
   "id": "b4fc0a32",
   "metadata": {},
   "outputs": [
    {
     "data": {
      "text/plain": [
       "array(['250 Hamilton Ave', '528 High St', 'Bryant St',\n",
       "       '3700 Middlefield Rd', '1520 Walnut Dr', '1514 Walnut Dr',\n",
       "       '500-532 Webster St', '532 Webster St', '275 Cambridge Ave',\n",
       "       '400 Cambridge Ave', '445 Bryant St', '520 Webster St',\n",
       "       '1213 Newell Rd', '528 high st', '528 High St.', '533 Cowper St',\n",
       "       '520 Cowper St', '475 Cambridge Ave'], dtype=object)"
      ]
     },
     "execution_count": 47,
     "metadata": {},
     "output_type": "execute_result"
    }
   ],
   "source": [
    "#All the address location with free charging stations\n",
    "df[df['Fee'] == 0]['Address 1'].unique()"
   ]
  },
  {
   "cell_type": "code",
   "execution_count": 48,
   "id": "54a48051",
   "metadata": {},
   "outputs": [
    {
     "data": {
      "text/plain": [
       "133538"
      ]
     },
     "execution_count": 48,
     "metadata": {},
     "output_type": "execute_result"
    }
   ],
   "source": [
    "df[df['Fee']== 0]['Fee'].count()"
   ]
  },
  {
   "cell_type": "code",
   "execution_count": 49,
   "id": "bc81ec54",
   "metadata": {},
   "outputs": [
    {
     "data": {
      "text/plain": [
       "array([' CAMBRIDGE #2', ' HAMILTON #2', ' WEBSTER #1', ' HAMILTON #1',\n",
       "       ' HIGH #3', ' RINCONADA LIB 1', ' MPL #5', ' WEBSTER #3',\n",
       "       ' BRYANT #3', ' BRYANT #6', ' TED THOMPSON #1', ' CAMBRIDGE #1',\n",
       "       ' MPL #4', ' MPL #3', ' HIGH #2', ' HIGH #4', ' BRYANT #5',\n",
       "       ' BRYANT #4', ' HIGH #1', ' BRYANT #2', ' RINCONADA LIB 2',\n",
       "       ' RINCONADA LIB 3', ' MPL #6', ' BRYANT #1', ' WEBSTER #2',\n",
       "       ' MPL #2', ' MPL #1', ' CAMBRIDGE #5', ' TED THOMPSON #3',\n",
       "       ' TED THOMPSON #4', ' TED THOMPSON #2', ' CAMBRIDGE #3',\n",
       "       ' CAMBRIDGE #4', ' SHERMAN 6', ' SHERMAN 7', ' SHERMAN 9',\n",
       "       ' SHERMAN 8', ' SHERMAN 4', ' SHERMAN 1', ' SHERMAN 3',\n",
       "       ' SHERMAN 14', ' SHERMAN 2', ' SHERMAN 5', ' SHERMAN 15',\n",
       "       ' SHERMAN 11', ' SHERMAN 17'], dtype=object)"
      ]
     },
     "execution_count": 49,
     "metadata": {},
     "output_type": "execute_result"
    }
   ],
   "source": [
    "df[df['Fee'] > 0]['Station Name'].unique()"
   ]
  },
  {
   "cell_type": "code",
   "execution_count": 50,
   "id": "a07e41a3",
   "metadata": {},
   "outputs": [
    {
     "data": {
      "text/plain": [
       "Driver Postal Code\n",
       "94301.0    25032\n",
       "94303.0    22561\n",
       "94306.0    21573\n",
       "94025.0    11581\n",
       "94043.0     7541\n",
       "           ...  \n",
       "92630.0        1\n",
       "47906.0        1\n",
       "6830.0         1\n",
       "93536.0        1\n",
       "63301.0        1\n",
       "Name: count, Length: 985, dtype: int64"
      ]
     },
     "execution_count": 50,
     "metadata": {},
     "output_type": "execute_result"
    }
   ],
   "source": [
    "df['Driver Postal Code'].value_counts()"
   ]
  },
  {
   "cell_type": "code",
   "execution_count": 51,
   "id": "d1cff916",
   "metadata": {},
   "outputs": [
    {
     "data": {
      "text/plain": [
       "Text(0.5, 1.0, 'Charging Station Postal Code vs Driver Postal Code')"
      ]
     },
     "execution_count": 51,
     "metadata": {},
     "output_type": "execute_result"
    },
    {
     "data": {
      "image/png": "[encoded data removed]",
      "text/plain": [
       "<Figure size 1400x800 with 1 Axes>"
      ]
     },
     "metadata": {},
     "output_type": "display_data"
    }
   ],
   "source": [
    "plt.figure(figsize=(14,8))\n",
    "sns.regplot(x=df['Driver Postal Code'], y=df['Postal Code'])\n",
    "sns.despine()\n",
    "plt.title(\"Charging Station Postal Code vs Driver Postal Code\")"
   ]
  },
  {
   "cell_type": "markdown",
   "id": "69a31ed1",
   "metadata": {},
   "source": [
    "Many NaN values on County \n",
    "Need to fill it up with actual county names"
   ]
  },
  {
   "cell_type": "code",
   "execution_count": 52,
   "id": "f729d44a",
   "metadata": {},
   "outputs": [
    {
     "data": {
      "text/plain": [
       "County\n",
       "Santa Clara County    147263\n",
       "San Mateo County       27487\n",
       "Name: count, dtype: int64"
      ]
     },
     "execution_count": 52,
     "metadata": {},
     "output_type": "execute_result"
    }
   ],
   "source": [
    "df['County'].value_counts()"
   ]
  },
  {
   "cell_type": "code",
   "execution_count": 58,
   "id": "2f70b408",
   "metadata": {},
   "outputs": [
    {
     "data": {
      "text/plain": [
       "84665"
      ]
     },
     "execution_count": 58,
     "metadata": {},
     "output_type": "execute_result"
    }
   ],
   "source": [
    "df['County'].isna().sum()"
   ]
  },
  {
   "cell_type": "markdown",
   "id": "67f3332d",
   "metadata": {},
   "source": [
    "There are 84665 NaN values in County column"
   ]
  },
  {
   "cell_type": "code",
   "execution_count": 64,
   "id": "a7e4f0bb",
   "metadata": {},
   "outputs": [],
   "source": [
    "# Create a map for county\n",
    "#county_mapping = {\n",
    " # how to create and fill the map....\n",
    "}\n",
    "\n",
    "# Use the mapping to fill in NaN values in the 'County' column based on the 'Address' column\n",
    "#df['County'] = df['Address 1'].map(county_mapping).fillna(df['County'])\n"
   ]
  },
  {
   "cell_type": "code",
   "execution_count": null,
   "id": "73f30a46",
   "metadata": {},
   "outputs": [],
   "source": []
  },
  {
   "cell_type": "code",
   "execution_count": null,
   "id": "2a000fcf",
   "metadata": {},
   "outputs": [],
   "source": []
  },
  {
   "cell_type": "code",
   "execution_count": null,
   "id": "76ce6dc3",
   "metadata": {},
   "outputs": [],
   "source": []
  },
  {
   "cell_type": "code",
   "execution_count": null,
   "id": "6d4b0836",
   "metadata": {},
   "outputs": [],
   "source": []
  }
 ],
 "metadata": {
  "kernelspec": {
   "display_name": "Python 3 (ipykernel)",
   "language": "python",
   "name": "python3"
  },
  "language_info": {
   "codemirror_mode": {
    "name": "ipython",
    "version": 3
   },
   "file_extension": ".py",
   "mimetype": "text/x-python",
   "name": "python",
   "nbconvert_exporter": "python",
   "pygments_lexer": "ipython3",
   "version": "3.11.5"
  }
 },
 "nbformat": 4,
 "nbformat_minor": 5
}
