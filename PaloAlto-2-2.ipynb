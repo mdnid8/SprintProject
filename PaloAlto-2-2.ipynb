{
 "cells": [
  {
   "cell_type": "markdown",
   "id": "e6f3a5c9",
   "metadata": {},
   "source": [
    "## Project Introduction: Palo Alto EV Charging Stations Usage And Other Related Factors"
   ]
  },
  {
   "cell_type": "markdown",
   "id": "4b014e6f",
   "metadata": {},
   "source": [
    "### Introduction:\n",
    "\n",
    "The EV Charging Stations industry is expanding as people increasingly adopt electric vehicles for various reasons. Palo Alto stands out as one of the few cities equipped with EV charging stations to cater to the growing number of EV drivers. These charging stations have a significant impact on reducing greenhouse gas emissions, saving gasoline, and contributing to other positive environmental aspects. Moreover, EV charging stations prove to be profitable for business owners.\n",
    "\n",
    "Importantly, the availability of charging stations does not necessarily equate to high costs, as many stations offer free charging services. Leveraging the dataset, our goal is to construct a model capable of predicting the benefits of charging stations for the city of Palo Alto. [Click here to access the dataset](https://www.kaggle.com/code/prasaddevh/eda-evchargingpaloaltoca)"
   ]
  },
  {
   "cell_type": "markdown",
   "id": "b0b2d017",
   "metadata": {},
   "source": [
    "**EDA Summary:**\n",
    "Original Dataset has 32 columns with 259415 rows. All columns describe important aspect of charging stations located in Palo Alto City. \n",
    "If you are not familar with EV charging stations, it is required to know some of the terms like MAC. \n",
    "\n",
    "MAC address (Media Access Control address) is a unique identifier assigned to a network interface controller (NIC) for use as a network address in communications within a network segment. It is a hardware address that uniquely identifies each device on a network. \n",
    "\n",
    "There are two types of charging port. type 1 and type 2. type 1 charging port is slower than type 2 charging port but it is cheaper and some stations provide free service.\n",
    "\n",
    "For further details on level 1 and level 2 Type 1 (J1772): This is a standard charging port in North America and Japan. It is also known as SAE J1772.\n",
    "Type 2 (Mennekes): This is a standard charging port in Europe. It is also known as IEC 62196-2.\n",
    "\n",
    "EVSE ID use to identify charging location, track, manage and record charging history. It is important column to record all previous charging histories.\n",
    "\n",
    "Plug type is similar to Port Type. It refers to the type of connector/plug used by EV to connect to a charging station. Different electric vehicles and charging stations may use different plug types, and the choice of plug type depends on factors such as regional standards, vehicle compatibility, and charging infrastructure specifications. At the moment, there are 5 different types of plug/port type available. Most popular one is Tesla upercharger in Palo Alto."
   ]
  },
  {
   "cell_type": "code",
   "execution_count": 3,
   "id": "1680539c",
   "metadata": {},
   "outputs": [
    {
     "name": "stdout",
     "output_type": "stream",
     "text": [
      "numpy      : 1.24.3\n",
      " pandas    : not installed\n",
      "matplotlib : 3.7.2\n",
      " seaborn   : not installed\n",
      "scipy      : 1.11.1\n",
      "statsmodels: 0.14.0\n",
      "\n"
     ]
    }
   ],
   "source": [
    "#data manipulation\n",
    "import numpy as np\n",
    "import pandas as pd\n",
    "\n",
    "#ploting\n",
    "import matplotlib.pyplot as plt\n",
    "import seaborn as sns\n",
    "\n",
    "#statistical modeling\n",
    "from scipy import stats\n",
    "from scipy.stats import norm\n",
    "import statsmodels.api as sm\n",
    "from datetime import datetime\n",
    "from watermark import watermark\n",
    "print(watermark(packages=\"numpy, pandas,matplotlib, seaborn,scipy,statsmodels\"))"
   ]
  },
  {
   "cell_type": "code",
   "execution_count": 4,
   "id": "a5b32682",
   "metadata": {
    "scrolled": true
   },
   "outputs": [
    {
     "name": "stderr",
     "output_type": "stream",
     "text": [
      "/var/folders/xm/6l5vh0t50td0sdk__7s1xptc0000gn/T/ipykernel_14814/927276920.py:1: DtypeWarning: Columns (29,30,32) have mixed types. Specify dtype option on import or set low_memory=False.\n",
      "  df = pd.read_csv('/Users/stevekim/Desktop/BrainStationSprintProject/EVChargingStationUsageCali.csv')\n"
     ]
    }
   ],
   "source": [
    "df = pd.read_csv('/Users/stevekim/Desktop/BrainStationSprintProject/EVChargingStationUsageCali.csv')"
   ]
  },
  {
   "cell_type": "code",
   "execution_count": 5,
   "id": "88d1fe89",
   "metadata": {},
   "outputs": [
    {
     "name": "stdout",
     "output_type": "stream",
     "text": [
      "<class 'pandas.core.frame.DataFrame'>\n",
      "RangeIndex: 259415 entries, 0 to 259414\n",
      "Data columns (total 33 columns):\n",
      " #   Column                           Non-Null Count   Dtype  \n",
      "---  ------                           --------------   -----  \n",
      " 0   Station Name                     259415 non-null  object \n",
      " 1   MAC Address                      259415 non-null  object \n",
      " 2   Org Name                         259415 non-null  object \n",
      " 3   Start Date                       259415 non-null  object \n",
      " 4   Start Time Zone                  259415 non-null  object \n",
      " 5   End Date                         259415 non-null  object \n",
      " 6   End Time Zone                    259415 non-null  object \n",
      " 7   Transaction Date (Pacific Time)  259206 non-null  object \n",
      " 8   Total Duration (hh:mm:ss)        259415 non-null  object \n",
      " 9   Charging Time (hh:mm:ss)         259415 non-null  object \n",
      " 10  Energy (kWh)                     259415 non-null  float64\n",
      " 11  GHG Savings (kg)                 259415 non-null  float64\n",
      " 12  Gasoline Savings (gallons)       259415 non-null  float64\n",
      " 13  Port Type                        259406 non-null  object \n",
      " 14  Port Number                      259415 non-null  int64  \n",
      " 15  Plug Type                        259415 non-null  object \n",
      " 16  EVSE ID                          180467 non-null  float64\n",
      " 17  Address 1                        259415 non-null  object \n",
      " 18  City                             259415 non-null  object \n",
      " 19  State/Province                   259415 non-null  object \n",
      " 20  Postal Code                      259415 non-null  int64  \n",
      " 21  Country                          259415 non-null  object \n",
      " 22  Latitude                         259415 non-null  float64\n",
      " 23  Longitude                        259415 non-null  float64\n",
      " 24  Currency                         257627 non-null  object \n",
      " 25  Fee                              259415 non-null  float64\n",
      " 26  Ended By                         259167 non-null  object \n",
      " 27  Plug In Event Id                 259415 non-null  int64  \n",
      " 28  Driver Postal Code               251013 non-null  float64\n",
      " 29  User ID                          251738 non-null  object \n",
      " 30  County                           174750 non-null  object \n",
      " 31  System S/N                       180467 non-null  float64\n",
      " 32  Model Number                     180467 non-null  object \n",
      "dtypes: float64(9), int64(3), object(21)\n",
      "memory usage: 65.3+ MB\n"
     ]
    }
   ],
   "source": [
    "df.info()"
   ]
  },
  {
   "cell_type": "code",
   "execution_count": 4,
   "id": "680068fb",
   "metadata": {
    "scrolled": true
   },
   "outputs": [
    {
     "name": "stdout",
     "output_type": "stream",
     "text": [
      "                 Station Name          MAC Address           Org Name  \\\n",
      "0  PALO ALTO CA / HAMILTON #1  000D:6F00:015A:9D76  City of Palo Alto   \n",
      "1  PALO ALTO CA / HAMILTON #1  000D:6F00:015A:9D76  City of Palo Alto   \n",
      "2  PALO ALTO CA / HAMILTON #1  000D:6F00:015A:9D76  City of Palo Alto   \n",
      "3  PALO ALTO CA / HAMILTON #1  000D:6F00:015A:9D76  City of Palo Alto   \n",
      "4  PALO ALTO CA / HAMILTON #1  000D:6F00:015A:9D76  City of Palo Alto   \n",
      "\n",
      "        Start Date Start Time Zone         End Date End Time Zone  \\\n",
      "0  7/29/2011 20:17             PDT  7/29/2011 23:20           PDT   \n",
      "1   7/30/2011 0:00             PDT   7/30/2011 0:02           PDT   \n",
      "2   7/30/2011 8:16             PDT  7/30/2011 12:34           PDT   \n",
      "3  7/30/2011 14:51             PDT  7/30/2011 16:55           PDT   \n",
      "4  7/30/2011 18:51             PDT  7/30/2011 20:03           PDT   \n",
      "\n",
      "  Transaction Date (Pacific Time) Total Duration (hh:mm:ss)  \\\n",
      "0                 7/29/2011 23:20                   3:03:32   \n",
      "1                  7/30/2011 0:02                   0:02:06   \n",
      "2                 7/30/2011 12:34                   4:17:32   \n",
      "3                 7/30/2011 16:55                   2:03:24   \n",
      "4                 7/30/2011 20:03                   1:11:24   \n",
      "\n",
      "  Charging Time (hh:mm:ss)  ...   Longitude  Currency  Fee  \\\n",
      "0                  1:54:03  ... -122.160309       USD  0.0   \n",
      "1                  0:01:54  ... -122.160309       USD  0.0   \n",
      "2                  4:17:28  ... -122.160309       USD  0.0   \n",
      "3                  2:02:58  ... -122.160309       USD  0.0   \n",
      "4                  0:43:54  ... -122.160309       USD  0.0   \n",
      "\n",
      "              Ended By  Plug In Event Id Driver Postal Code  User ID County  \\\n",
      "0  Plug Out at Vehicle                 3            95124.0   3284.0    NaN   \n",
      "1             Customer                 4            94301.0   4169.0    NaN   \n",
      "2  Plug Out at Vehicle                 5            94301.0   4169.0    NaN   \n",
      "3             Customer                 6            94302.0   2545.0    NaN   \n",
      "4  Plug Out at Vehicle                 7            94043.0   3765.0    NaN   \n",
      "\n",
      "  System S/N Model Number  \n",
      "0        NaN          NaN  \n",
      "1        NaN          NaN  \n",
      "2        NaN          NaN  \n",
      "3        NaN          NaN  \n",
      "4        NaN          NaN  \n",
      "\n",
      "[5 rows x 33 columns]\n"
     ]
    }
   ],
   "source": [
    "print(df.head())"
   ]
  },
  {
   "cell_type": "code",
   "execution_count": 5,
   "id": "9947724f",
   "metadata": {
    "scrolled": false
   },
   "outputs": [
    {
     "data": {
      "text/plain": [
       "Index(['Station Name', 'MAC Address', 'Org Name', 'Start Date',\n",
       "       'Start Time Zone', 'End Date', 'End Time Zone',\n",
       "       'Transaction Date (Pacific Time)', 'Total Duration (hh:mm:ss)',\n",
       "       'Charging Time (hh:mm:ss)', 'Energy (kWh)', 'GHG Savings (kg)',\n",
       "       'Gasoline Savings (gallons)', 'Port Type', 'Port Number', 'Plug Type',\n",
       "       'EVSE ID', 'Address 1', 'City', 'State/Province', 'Postal Code',\n",
       "       'Country', 'Latitude', 'Longitude', 'Currency', 'Fee', 'Ended By',\n",
       "       'Plug In Event Id', 'Driver Postal Code', 'User ID', 'County',\n",
       "       'System S/N', 'Model Number'],\n",
       "      dtype='object')"
      ]
     },
     "execution_count": 5,
     "metadata": {},
     "output_type": "execute_result"
    }
   ],
   "source": [
    "df.columns"
   ]
  },
  {
   "cell_type": "markdown",
   "id": "3b2ac1d3",
   "metadata": {},
   "source": [
    "Column names are too long keep it short and neat"
   ]
  },
  {
   "cell_type": "code",
   "execution_count": 6,
   "id": "cd066ff6",
   "metadata": {},
   "outputs": [
    {
     "name": "stdout",
     "output_type": "stream",
     "text": [
      "Index(['Station Name', 'MAC Address', 'Org Name', 'Start Date',\n",
      "       'Start Time Zone', 'End Date', 'End Time Zone', 'Transaction Date',\n",
      "       'Total Duration', 'Charging Time', 'Energy', 'GreenHouseGasSave',\n",
      "       'Gasoline Savings', 'Port Type', 'Port Number', 'Plug Type', 'EVSE ID',\n",
      "       'Address 1', 'City', 'State/Province', 'Postal Code', 'Country',\n",
      "       'Latitude', 'Longitude', 'Currency', 'Fee', 'Ended By',\n",
      "       'Plug In Event Id', 'Driver Postal Code', 'User ID', 'County',\n",
      "       'System S/N', 'Model Number'],\n",
      "      dtype='object')\n"
     ]
    }
   ],
   "source": [
    "df.rename(columns={'Energy (kWh)' : 'Energy', 'GHG Savings (kg)': \"GreenHouseGasSave\",\n",
    "                  'Transaction Date (Pacific Time)':'Transaction Date',\n",
    "                   'Charging Time (hh:mm:ss)':'Charging Time',\n",
    "                   'Total Duration (hh:mm:ss)': 'Total Duration',\n",
    "                   'Gasoline Savings (gallons)': 'Gasoline Savings'\n",
    "                  }, inplace=True)\n",
    "print(df.columns)"
   ]
  },
  {
   "cell_type": "code",
   "execution_count": 7,
   "id": "27a22274",
   "metadata": {},
   "outputs": [
    {
     "data": {
      "text/html": [
       "<div>\n",
       "<style scoped>\n",
       "    .dataframe tbody tr th:only-of-type {\n",
       "        vertical-align: middle;\n",
       "    }\n",
       "\n",
       "    .dataframe tbody tr th {\n",
       "        vertical-align: top;\n",
       "    }\n",
       "\n",
       "    .dataframe thead th {\n",
       "        text-align: right;\n",
       "    }\n",
       "</style>\n",
       "<table border=\"1\" class=\"dataframe\">\n",
       "  <thead>\n",
       "    <tr style=\"text-align: right;\">\n",
       "      <th></th>\n",
       "      <th>Station Name</th>\n",
       "      <th>MAC Address</th>\n",
       "      <th>Org Name</th>\n",
       "      <th>Start Date</th>\n",
       "      <th>Start Time Zone</th>\n",
       "      <th>End Date</th>\n",
       "      <th>End Time Zone</th>\n",
       "      <th>Transaction Date</th>\n",
       "      <th>Total Duration</th>\n",
       "      <th>Charging Time</th>\n",
       "      <th>...</th>\n",
       "      <th>Longitude</th>\n",
       "      <th>Currency</th>\n",
       "      <th>Fee</th>\n",
       "      <th>Ended By</th>\n",
       "      <th>Plug In Event Id</th>\n",
       "      <th>Driver Postal Code</th>\n",
       "      <th>User ID</th>\n",
       "      <th>County</th>\n",
       "      <th>System S/N</th>\n",
       "      <th>Model Number</th>\n",
       "    </tr>\n",
       "  </thead>\n",
       "  <tbody>\n",
       "    <tr>\n",
       "      <th>0</th>\n",
       "      <td>PALO ALTO CA / HAMILTON #1</td>\n",
       "      <td>000D:6F00:015A:9D76</td>\n",
       "      <td>City of Palo Alto</td>\n",
       "      <td>7/29/2011 20:17</td>\n",
       "      <td>PDT</td>\n",
       "      <td>7/29/2011 23:20</td>\n",
       "      <td>PDT</td>\n",
       "      <td>7/29/2011 23:20</td>\n",
       "      <td>3:03:32</td>\n",
       "      <td>1:54:03</td>\n",
       "      <td>...</td>\n",
       "      <td>-122.160309</td>\n",
       "      <td>USD</td>\n",
       "      <td>0.00</td>\n",
       "      <td>Plug Out at Vehicle</td>\n",
       "      <td>3</td>\n",
       "      <td>95124.0</td>\n",
       "      <td>3284.0</td>\n",
       "      <td>NaN</td>\n",
       "      <td>NaN</td>\n",
       "      <td>NaN</td>\n",
       "    </tr>\n",
       "    <tr>\n",
       "      <th>1</th>\n",
       "      <td>PALO ALTO CA / HAMILTON #1</td>\n",
       "      <td>000D:6F00:015A:9D76</td>\n",
       "      <td>City of Palo Alto</td>\n",
       "      <td>7/30/2011 0:00</td>\n",
       "      <td>PDT</td>\n",
       "      <td>7/30/2011 0:02</td>\n",
       "      <td>PDT</td>\n",
       "      <td>7/30/2011 0:02</td>\n",
       "      <td>0:02:06</td>\n",
       "      <td>0:01:54</td>\n",
       "      <td>...</td>\n",
       "      <td>-122.160309</td>\n",
       "      <td>USD</td>\n",
       "      <td>0.00</td>\n",
       "      <td>Customer</td>\n",
       "      <td>4</td>\n",
       "      <td>94301.0</td>\n",
       "      <td>4169.0</td>\n",
       "      <td>NaN</td>\n",
       "      <td>NaN</td>\n",
       "      <td>NaN</td>\n",
       "    </tr>\n",
       "    <tr>\n",
       "      <th>2</th>\n",
       "      <td>PALO ALTO CA / HAMILTON #1</td>\n",
       "      <td>000D:6F00:015A:9D76</td>\n",
       "      <td>City of Palo Alto</td>\n",
       "      <td>7/30/2011 8:16</td>\n",
       "      <td>PDT</td>\n",
       "      <td>7/30/2011 12:34</td>\n",
       "      <td>PDT</td>\n",
       "      <td>7/30/2011 12:34</td>\n",
       "      <td>4:17:32</td>\n",
       "      <td>4:17:28</td>\n",
       "      <td>...</td>\n",
       "      <td>-122.160309</td>\n",
       "      <td>USD</td>\n",
       "      <td>0.00</td>\n",
       "      <td>Plug Out at Vehicle</td>\n",
       "      <td>5</td>\n",
       "      <td>94301.0</td>\n",
       "      <td>4169.0</td>\n",
       "      <td>NaN</td>\n",
       "      <td>NaN</td>\n",
       "      <td>NaN</td>\n",
       "    </tr>\n",
       "    <tr>\n",
       "      <th>3</th>\n",
       "      <td>PALO ALTO CA / HAMILTON #1</td>\n",
       "      <td>000D:6F00:015A:9D76</td>\n",
       "      <td>City of Palo Alto</td>\n",
       "      <td>7/30/2011 14:51</td>\n",
       "      <td>PDT</td>\n",
       "      <td>7/30/2011 16:55</td>\n",
       "      <td>PDT</td>\n",
       "      <td>7/30/2011 16:55</td>\n",
       "      <td>2:03:24</td>\n",
       "      <td>2:02:58</td>\n",
       "      <td>...</td>\n",
       "      <td>-122.160309</td>\n",
       "      <td>USD</td>\n",
       "      <td>0.00</td>\n",
       "      <td>Customer</td>\n",
       "      <td>6</td>\n",
       "      <td>94302.0</td>\n",
       "      <td>2545.0</td>\n",
       "      <td>NaN</td>\n",
       "      <td>NaN</td>\n",
       "      <td>NaN</td>\n",
       "    </tr>\n",
       "    <tr>\n",
       "      <th>4</th>\n",
       "      <td>PALO ALTO CA / HAMILTON #1</td>\n",
       "      <td>000D:6F00:015A:9D76</td>\n",
       "      <td>City of Palo Alto</td>\n",
       "      <td>7/30/2011 18:51</td>\n",
       "      <td>PDT</td>\n",
       "      <td>7/30/2011 20:03</td>\n",
       "      <td>PDT</td>\n",
       "      <td>7/30/2011 20:03</td>\n",
       "      <td>1:11:24</td>\n",
       "      <td>0:43:54</td>\n",
       "      <td>...</td>\n",
       "      <td>-122.160309</td>\n",
       "      <td>USD</td>\n",
       "      <td>0.00</td>\n",
       "      <td>Plug Out at Vehicle</td>\n",
       "      <td>7</td>\n",
       "      <td>94043.0</td>\n",
       "      <td>3765.0</td>\n",
       "      <td>NaN</td>\n",
       "      <td>NaN</td>\n",
       "      <td>NaN</td>\n",
       "    </tr>\n",
       "    <tr>\n",
       "      <th>...</th>\n",
       "      <td>...</td>\n",
       "      <td>...</td>\n",
       "      <td>...</td>\n",
       "      <td>...</td>\n",
       "      <td>...</td>\n",
       "      <td>...</td>\n",
       "      <td>...</td>\n",
       "      <td>...</td>\n",
       "      <td>...</td>\n",
       "      <td>...</td>\n",
       "      <td>...</td>\n",
       "      <td>...</td>\n",
       "      <td>...</td>\n",
       "      <td>...</td>\n",
       "      <td>...</td>\n",
       "      <td>...</td>\n",
       "      <td>...</td>\n",
       "      <td>...</td>\n",
       "      <td>...</td>\n",
       "      <td>...</td>\n",
       "      <td>...</td>\n",
       "    </tr>\n",
       "    <tr>\n",
       "      <th>259410</th>\n",
       "      <td>PALO ALTO CA / TED THOMPSON #3</td>\n",
       "      <td>0024:B100:0002:9F81</td>\n",
       "      <td>City of Palo Alto</td>\n",
       "      <td>12/31/2020 16:39</td>\n",
       "      <td>PST</td>\n",
       "      <td>12/31/2020 17:14</td>\n",
       "      <td>PST</td>\n",
       "      <td>12/31/2020 17:16</td>\n",
       "      <td>0:35:44</td>\n",
       "      <td>0:35:18</td>\n",
       "      <td>...</td>\n",
       "      <td>-122.144043</td>\n",
       "      <td>USD</td>\n",
       "      <td>0.42</td>\n",
       "      <td>Plug Out at Vehicle</td>\n",
       "      <td>2369</td>\n",
       "      <td>94301.0</td>\n",
       "      <td>2024201</td>\n",
       "      <td>NaN</td>\n",
       "      <td>1.745410e+11</td>\n",
       "      <td>CT4020-HD-GW</td>\n",
       "    </tr>\n",
       "    <tr>\n",
       "      <th>259411</th>\n",
       "      <td>PALO ALTO CA / WEBSTER #1</td>\n",
       "      <td>0024:B100:0002:4233</td>\n",
       "      <td>City of Palo Alto</td>\n",
       "      <td>12/31/2020 16:48</td>\n",
       "      <td>PST</td>\n",
       "      <td>12/31/2020 20:31</td>\n",
       "      <td>PST</td>\n",
       "      <td>12/31/2020 20:32</td>\n",
       "      <td>3:43:01</td>\n",
       "      <td>2:14:04</td>\n",
       "      <td>...</td>\n",
       "      <td>-122.158272</td>\n",
       "      <td>USD</td>\n",
       "      <td>4.69</td>\n",
       "      <td>Plug Out at Vehicle</td>\n",
       "      <td>7255</td>\n",
       "      <td>94541.0</td>\n",
       "      <td>242661</td>\n",
       "      <td>Santa Clara County</td>\n",
       "      <td>1.336410e+11</td>\n",
       "      <td>CT4020-HD-GW</td>\n",
       "    </tr>\n",
       "    <tr>\n",
       "      <th>259412</th>\n",
       "      <td>PALO ALTO CA / MPL #4</td>\n",
       "      <td>0024:B100:0003:CD37</td>\n",
       "      <td>City of Palo Alto</td>\n",
       "      <td>12/31/2020 17:28</td>\n",
       "      <td>PST</td>\n",
       "      <td>1/1/2021 10:56</td>\n",
       "      <td>PST</td>\n",
       "      <td>1/1/2021 10:57</td>\n",
       "      <td>17:28:14</td>\n",
       "      <td>5:08:12</td>\n",
       "      <td>...</td>\n",
       "      <td>-122.113510</td>\n",
       "      <td>USD</td>\n",
       "      <td>6.82</td>\n",
       "      <td>Plug Out at Vehicle</td>\n",
       "      <td>455</td>\n",
       "      <td>94306.0</td>\n",
       "      <td>449995</td>\n",
       "      <td>Santa Clara County</td>\n",
       "      <td>2.002410e+11</td>\n",
       "      <td>CT4010-HD-GW</td>\n",
       "    </tr>\n",
       "    <tr>\n",
       "      <th>259413</th>\n",
       "      <td>PALO ALTO CA / WEBSTER #1</td>\n",
       "      <td>0024:B100:0002:4233</td>\n",
       "      <td>City of Palo Alto</td>\n",
       "      <td>12/31/2020 17:49</td>\n",
       "      <td>PST</td>\n",
       "      <td>12/31/2020 21:55</td>\n",
       "      <td>PST</td>\n",
       "      <td>12/31/2020 21:56</td>\n",
       "      <td>4:05:34</td>\n",
       "      <td>3:53:42</td>\n",
       "      <td>...</td>\n",
       "      <td>-122.158272</td>\n",
       "      <td>USD</td>\n",
       "      <td>2.75</td>\n",
       "      <td>Plug Out at Vehicle</td>\n",
       "      <td>7256</td>\n",
       "      <td>94552.0</td>\n",
       "      <td>804075</td>\n",
       "      <td>Santa Clara County</td>\n",
       "      <td>1.336410e+11</td>\n",
       "      <td>CT4020-HD-GW</td>\n",
       "    </tr>\n",
       "    <tr>\n",
       "      <th>259414</th>\n",
       "      <td>PALO ALTO CA / CAMBRIDGE #4</td>\n",
       "      <td>0024:B100:0003:3A0A</td>\n",
       "      <td>City of Palo Alto</td>\n",
       "      <td>12/31/2020 18:19</td>\n",
       "      <td>PST</td>\n",
       "      <td>12/31/2020 19:01</td>\n",
       "      <td>PST</td>\n",
       "      <td>12/31/2020 19:02</td>\n",
       "      <td>0:42:07</td>\n",
       "      <td>0:41:44</td>\n",
       "      <td>...</td>\n",
       "      <td>-122.146034</td>\n",
       "      <td>USD</td>\n",
       "      <td>0.36</td>\n",
       "      <td>Plug Out at Vehicle</td>\n",
       "      <td>2302</td>\n",
       "      <td>94305.0</td>\n",
       "      <td>2022651</td>\n",
       "      <td>Santa Clara County</td>\n",
       "      <td>1.852410e+11</td>\n",
       "      <td>CT4020-HD-GW</td>\n",
       "    </tr>\n",
       "  </tbody>\n",
       "</table>\n",
       "<p>259411 rows × 33 columns</p>\n",
       "</div>"
      ],
      "text/plain": [
       "                          Station Name          MAC Address  \\\n",
       "0           PALO ALTO CA / HAMILTON #1  000D:6F00:015A:9D76   \n",
       "1           PALO ALTO CA / HAMILTON #1  000D:6F00:015A:9D76   \n",
       "2           PALO ALTO CA / HAMILTON #1  000D:6F00:015A:9D76   \n",
       "3           PALO ALTO CA / HAMILTON #1  000D:6F00:015A:9D76   \n",
       "4           PALO ALTO CA / HAMILTON #1  000D:6F00:015A:9D76   \n",
       "...                                ...                  ...   \n",
       "259410  PALO ALTO CA / TED THOMPSON #3  0024:B100:0002:9F81   \n",
       "259411       PALO ALTO CA / WEBSTER #1  0024:B100:0002:4233   \n",
       "259412           PALO ALTO CA / MPL #4  0024:B100:0003:CD37   \n",
       "259413       PALO ALTO CA / WEBSTER #1  0024:B100:0002:4233   \n",
       "259414     PALO ALTO CA / CAMBRIDGE #4  0024:B100:0003:3A0A   \n",
       "\n",
       "                  Org Name        Start Date Start Time Zone  \\\n",
       "0        City of Palo Alto   7/29/2011 20:17             PDT   \n",
       "1        City of Palo Alto    7/30/2011 0:00             PDT   \n",
       "2        City of Palo Alto    7/30/2011 8:16             PDT   \n",
       "3        City of Palo Alto   7/30/2011 14:51             PDT   \n",
       "4        City of Palo Alto   7/30/2011 18:51             PDT   \n",
       "...                    ...               ...             ...   \n",
       "259410  City of Palo Alto   12/31/2020 16:39             PST   \n",
       "259411  City of Palo Alto   12/31/2020 16:48             PST   \n",
       "259412  City of Palo Alto   12/31/2020 17:28             PST   \n",
       "259413  City of Palo Alto   12/31/2020 17:49             PST   \n",
       "259414  City of Palo Alto   12/31/2020 18:19             PST   \n",
       "\n",
       "                End Date End Time Zone  Transaction Date Total Duration  \\\n",
       "0        7/29/2011 23:20           PDT   7/29/2011 23:20        3:03:32   \n",
       "1         7/30/2011 0:02           PDT    7/30/2011 0:02        0:02:06   \n",
       "2        7/30/2011 12:34           PDT   7/30/2011 12:34        4:17:32   \n",
       "3        7/30/2011 16:55           PDT   7/30/2011 16:55        2:03:24   \n",
       "4        7/30/2011 20:03           PDT   7/30/2011 20:03        1:11:24   \n",
       "...                  ...           ...               ...            ...   \n",
       "259410  12/31/2020 17:14           PST  12/31/2020 17:16        0:35:44   \n",
       "259411  12/31/2020 20:31           PST  12/31/2020 20:32        3:43:01   \n",
       "259412    1/1/2021 10:56           PST    1/1/2021 10:57       17:28:14   \n",
       "259413  12/31/2020 21:55           PST  12/31/2020 21:56        4:05:34   \n",
       "259414  12/31/2020 19:01           PST  12/31/2020 19:02        0:42:07   \n",
       "\n",
       "       Charging Time  ...   Longitude  Currency   Fee             Ended By  \\\n",
       "0            1:54:03  ... -122.160309       USD  0.00  Plug Out at Vehicle   \n",
       "1            0:01:54  ... -122.160309       USD  0.00             Customer   \n",
       "2            4:17:28  ... -122.160309       USD  0.00  Plug Out at Vehicle   \n",
       "3            2:02:58  ... -122.160309       USD  0.00             Customer   \n",
       "4            0:43:54  ... -122.160309       USD  0.00  Plug Out at Vehicle   \n",
       "...              ...  ...         ...       ...   ...                  ...   \n",
       "259410       0:35:18  ... -122.144043       USD  0.42  Plug Out at Vehicle   \n",
       "259411       2:14:04  ... -122.158272       USD  4.69  Plug Out at Vehicle   \n",
       "259412       5:08:12  ... -122.113510       USD  6.82  Plug Out at Vehicle   \n",
       "259413       3:53:42  ... -122.158272       USD  2.75  Plug Out at Vehicle   \n",
       "259414       0:41:44  ... -122.146034       USD  0.36  Plug Out at Vehicle   \n",
       "\n",
       "        Plug In Event Id Driver Postal Code  User ID              County  \\\n",
       "0                      3            95124.0   3284.0                 NaN   \n",
       "1                      4            94301.0   4169.0                 NaN   \n",
       "2                      5            94301.0   4169.0                 NaN   \n",
       "3                      6            94302.0   2545.0                 NaN   \n",
       "4                      7            94043.0   3765.0                 NaN   \n",
       "...                  ...                ...      ...                 ...   \n",
       "259410              2369            94301.0  2024201                 NaN   \n",
       "259411              7255            94541.0   242661  Santa Clara County   \n",
       "259412               455            94306.0   449995  Santa Clara County   \n",
       "259413              7256            94552.0   804075  Santa Clara County   \n",
       "259414              2302            94305.0  2022651  Santa Clara County   \n",
       "\n",
       "          System S/N  Model Number  \n",
       "0                NaN           NaN  \n",
       "1                NaN           NaN  \n",
       "2                NaN           NaN  \n",
       "3                NaN           NaN  \n",
       "4                NaN           NaN  \n",
       "...              ...           ...  \n",
       "259410  1.745410e+11  CT4020-HD-GW  \n",
       "259411  1.336410e+11  CT4020-HD-GW  \n",
       "259412  2.002410e+11  CT4010-HD-GW  \n",
       "259413  1.336410e+11  CT4020-HD-GW  \n",
       "259414  1.852410e+11  CT4020-HD-GW  \n",
       "\n",
       "[259411 rows x 33 columns]"
      ]
     },
     "execution_count": 7,
     "metadata": {},
     "output_type": "execute_result"
    }
   ],
   "source": [
    "df.drop_duplicates()\n",
    "#Checked duplicate rows and decided to drop the rows."
   ]
  },
  {
   "cell_type": "code",
   "execution_count": 8,
   "id": "6a469b86",
   "metadata": {},
   "outputs": [
    {
     "data": {
      "text/html": [
       "<div>\n",
       "<style scoped>\n",
       "    .dataframe tbody tr th:only-of-type {\n",
       "        vertical-align: middle;\n",
       "    }\n",
       "\n",
       "    .dataframe tbody tr th {\n",
       "        vertical-align: top;\n",
       "    }\n",
       "\n",
       "    .dataframe thead th {\n",
       "        text-align: right;\n",
       "    }\n",
       "</style>\n",
       "<table border=\"1\" class=\"dataframe\">\n",
       "  <thead>\n",
       "    <tr style=\"text-align: right;\">\n",
       "      <th></th>\n",
       "      <th>Station Name</th>\n",
       "      <th>MAC Address</th>\n",
       "      <th>Org Name</th>\n",
       "      <th>Start Date</th>\n",
       "      <th>Start Time Zone</th>\n",
       "      <th>End Date</th>\n",
       "      <th>End Time Zone</th>\n",
       "      <th>Transaction Date</th>\n",
       "      <th>Total Duration</th>\n",
       "      <th>Charging Time</th>\n",
       "      <th>...</th>\n",
       "      <th>Longitude</th>\n",
       "      <th>Currency</th>\n",
       "      <th>Fee</th>\n",
       "      <th>Ended By</th>\n",
       "      <th>Plug In Event Id</th>\n",
       "      <th>Driver Postal Code</th>\n",
       "      <th>User ID</th>\n",
       "      <th>County</th>\n",
       "      <th>System S/N</th>\n",
       "      <th>Model Number</th>\n",
       "    </tr>\n",
       "  </thead>\n",
       "  <tbody>\n",
       "    <tr>\n",
       "      <th>0</th>\n",
       "      <td>PALO ALTO CA / HAMILTON #1</td>\n",
       "      <td>000D:6F00:015A:9D76</td>\n",
       "      <td>City of Palo Alto</td>\n",
       "      <td>7/29/2011 20:17</td>\n",
       "      <td>PDT</td>\n",
       "      <td>7/29/2011 23:20</td>\n",
       "      <td>PDT</td>\n",
       "      <td>7/29/2011 23:20</td>\n",
       "      <td>3:03:32</td>\n",
       "      <td>1:54:03</td>\n",
       "      <td>...</td>\n",
       "      <td>-122.160309</td>\n",
       "      <td>USD</td>\n",
       "      <td>0.0</td>\n",
       "      <td>Plug Out at Vehicle</td>\n",
       "      <td>3</td>\n",
       "      <td>95124.0</td>\n",
       "      <td>3284.0</td>\n",
       "      <td>NaN</td>\n",
       "      <td>NaN</td>\n",
       "      <td>NaN</td>\n",
       "    </tr>\n",
       "    <tr>\n",
       "      <th>1</th>\n",
       "      <td>PALO ALTO CA / HAMILTON #1</td>\n",
       "      <td>000D:6F00:015A:9D76</td>\n",
       "      <td>City of Palo Alto</td>\n",
       "      <td>7/30/2011 0:00</td>\n",
       "      <td>PDT</td>\n",
       "      <td>7/30/2011 0:02</td>\n",
       "      <td>PDT</td>\n",
       "      <td>7/30/2011 0:02</td>\n",
       "      <td>0:02:06</td>\n",
       "      <td>0:01:54</td>\n",
       "      <td>...</td>\n",
       "      <td>-122.160309</td>\n",
       "      <td>USD</td>\n",
       "      <td>0.0</td>\n",
       "      <td>Customer</td>\n",
       "      <td>4</td>\n",
       "      <td>94301.0</td>\n",
       "      <td>4169.0</td>\n",
       "      <td>NaN</td>\n",
       "      <td>NaN</td>\n",
       "      <td>NaN</td>\n",
       "    </tr>\n",
       "    <tr>\n",
       "      <th>2</th>\n",
       "      <td>PALO ALTO CA / HAMILTON #1</td>\n",
       "      <td>000D:6F00:015A:9D76</td>\n",
       "      <td>City of Palo Alto</td>\n",
       "      <td>7/30/2011 8:16</td>\n",
       "      <td>PDT</td>\n",
       "      <td>7/30/2011 12:34</td>\n",
       "      <td>PDT</td>\n",
       "      <td>7/30/2011 12:34</td>\n",
       "      <td>4:17:32</td>\n",
       "      <td>4:17:28</td>\n",
       "      <td>...</td>\n",
       "      <td>-122.160309</td>\n",
       "      <td>USD</td>\n",
       "      <td>0.0</td>\n",
       "      <td>Plug Out at Vehicle</td>\n",
       "      <td>5</td>\n",
       "      <td>94301.0</td>\n",
       "      <td>4169.0</td>\n",
       "      <td>NaN</td>\n",
       "      <td>NaN</td>\n",
       "      <td>NaN</td>\n",
       "    </tr>\n",
       "    <tr>\n",
       "      <th>3</th>\n",
       "      <td>PALO ALTO CA / HAMILTON #1</td>\n",
       "      <td>000D:6F00:015A:9D76</td>\n",
       "      <td>City of Palo Alto</td>\n",
       "      <td>7/30/2011 14:51</td>\n",
       "      <td>PDT</td>\n",
       "      <td>7/30/2011 16:55</td>\n",
       "      <td>PDT</td>\n",
       "      <td>7/30/2011 16:55</td>\n",
       "      <td>2:03:24</td>\n",
       "      <td>2:02:58</td>\n",
       "      <td>...</td>\n",
       "      <td>-122.160309</td>\n",
       "      <td>USD</td>\n",
       "      <td>0.0</td>\n",
       "      <td>Customer</td>\n",
       "      <td>6</td>\n",
       "      <td>94302.0</td>\n",
       "      <td>2545.0</td>\n",
       "      <td>NaN</td>\n",
       "      <td>NaN</td>\n",
       "      <td>NaN</td>\n",
       "    </tr>\n",
       "    <tr>\n",
       "      <th>4</th>\n",
       "      <td>PALO ALTO CA / HAMILTON #1</td>\n",
       "      <td>000D:6F00:015A:9D76</td>\n",
       "      <td>City of Palo Alto</td>\n",
       "      <td>7/30/2011 18:51</td>\n",
       "      <td>PDT</td>\n",
       "      <td>7/30/2011 20:03</td>\n",
       "      <td>PDT</td>\n",
       "      <td>7/30/2011 20:03</td>\n",
       "      <td>1:11:24</td>\n",
       "      <td>0:43:54</td>\n",
       "      <td>...</td>\n",
       "      <td>-122.160309</td>\n",
       "      <td>USD</td>\n",
       "      <td>0.0</td>\n",
       "      <td>Plug Out at Vehicle</td>\n",
       "      <td>7</td>\n",
       "      <td>94043.0</td>\n",
       "      <td>3765.0</td>\n",
       "      <td>NaN</td>\n",
       "      <td>NaN</td>\n",
       "      <td>NaN</td>\n",
       "    </tr>\n",
       "  </tbody>\n",
       "</table>\n",
       "<p>5 rows × 33 columns</p>\n",
       "</div>"
      ],
      "text/plain": [
       "                 Station Name          MAC Address           Org Name  \\\n",
       "0  PALO ALTO CA / HAMILTON #1  000D:6F00:015A:9D76  City of Palo Alto   \n",
       "1  PALO ALTO CA / HAMILTON #1  000D:6F00:015A:9D76  City of Palo Alto   \n",
       "2  PALO ALTO CA / HAMILTON #1  000D:6F00:015A:9D76  City of Palo Alto   \n",
       "3  PALO ALTO CA / HAMILTON #1  000D:6F00:015A:9D76  City of Palo Alto   \n",
       "4  PALO ALTO CA / HAMILTON #1  000D:6F00:015A:9D76  City of Palo Alto   \n",
       "\n",
       "        Start Date Start Time Zone         End Date End Time Zone  \\\n",
       "0  7/29/2011 20:17             PDT  7/29/2011 23:20           PDT   \n",
       "1   7/30/2011 0:00             PDT   7/30/2011 0:02           PDT   \n",
       "2   7/30/2011 8:16             PDT  7/30/2011 12:34           PDT   \n",
       "3  7/30/2011 14:51             PDT  7/30/2011 16:55           PDT   \n",
       "4  7/30/2011 18:51             PDT  7/30/2011 20:03           PDT   \n",
       "\n",
       "  Transaction Date Total Duration Charging Time  ...   Longitude  Currency  \\\n",
       "0  7/29/2011 23:20        3:03:32       1:54:03  ... -122.160309       USD   \n",
       "1   7/30/2011 0:02        0:02:06       0:01:54  ... -122.160309       USD   \n",
       "2  7/30/2011 12:34        4:17:32       4:17:28  ... -122.160309       USD   \n",
       "3  7/30/2011 16:55        2:03:24       2:02:58  ... -122.160309       USD   \n",
       "4  7/30/2011 20:03        1:11:24       0:43:54  ... -122.160309       USD   \n",
       "\n",
       "   Fee             Ended By  Plug In Event Id Driver Postal Code  User ID  \\\n",
       "0  0.0  Plug Out at Vehicle                 3            95124.0   3284.0   \n",
       "1  0.0             Customer                 4            94301.0   4169.0   \n",
       "2  0.0  Plug Out at Vehicle                 5            94301.0   4169.0   \n",
       "3  0.0             Customer                 6            94302.0   2545.0   \n",
       "4  0.0  Plug Out at Vehicle                 7            94043.0   3765.0   \n",
       "\n",
       "  County System S/N Model Number  \n",
       "0    NaN        NaN          NaN  \n",
       "1    NaN        NaN          NaN  \n",
       "2    NaN        NaN          NaN  \n",
       "3    NaN        NaN          NaN  \n",
       "4    NaN        NaN          NaN  \n",
       "\n",
       "[5 rows x 33 columns]"
      ]
     },
     "execution_count": 8,
     "metadata": {},
     "output_type": "execute_result"
    }
   ],
   "source": [
    "df.head()\n",
    "#MAC stands for Media Access Control address, MAC addresses are used as a way to uniquely identify a device on a network at the data link layer of the OSI model"
   ]
  },
  {
   "cell_type": "code",
   "execution_count": 9,
   "id": "85d74ac8",
   "metadata": {},
   "outputs": [],
   "source": [
    "df = df.drop(columns=['Country','State/Province','Currency'])"
   ]
  },
  {
   "cell_type": "markdown",
   "id": "795ce9c6",
   "metadata": {},
   "source": [
    "Drop columns:\n",
    "Start Time Zone, End Time Zone. Report base on PDT no need to included in column\n",
    "Country, State/Province. Report is base on California State no need to include country and state\n",
    "Currency. No need to include currency "
   ]
  },
  {
   "cell_type": "code",
   "execution_count": 10,
   "id": "0c85c104",
   "metadata": {},
   "outputs": [],
   "source": [
    "#Write an utility function to perform basic data quality checks\n",
    "\n",
    "def basic_check(df):\n",
    "    \"\"\"\n",
    "    should return Number of rows, Number of columns, Missing values,\n",
    "    Duplicated columns, Duplicated rows\n",
    "    \"\"\"\n",
    "    \n",
    "    #take a look at the shape of dataset\n",
    "    print(f'There are {df.shape[0]} rows and {df.shape[1]} columns in the dataset.')\n",
    "    \n",
    "    #take a look at the unique datatypes:\n",
    "    print(f'Unique datatypes: {list(df.dtypes.unique())}')\n",
    "    \n",
    "    #check for missing values\n",
    "    print(f'Missing values: {df.isnull().sum().any()}')\n",
    "    \n",
    "    #check for duplicates\n",
    "    print(f'Duplicated columns: {df.T.duplicated().any()}')\n",
    "    \n",
    "    #row-level duplicates\n",
    "    print(f'Duplicated rows: {df.duplicated().any()}')"
   ]
  },
  {
   "cell_type": "code",
   "execution_count": 11,
   "id": "231359d2",
   "metadata": {},
   "outputs": [
    {
     "name": "stdout",
     "output_type": "stream",
     "text": [
      "There are 259415 rows and 30 columns in the dataset.\n",
      "Unique datatypes: [dtype('O'), dtype('float64'), dtype('int64')]\n",
      "Missing values: True\n",
      "Duplicated columns: False\n",
      "Duplicated rows: True\n"
     ]
    }
   ],
   "source": [
    "#More sanity check\n",
    "basic_check(df)"
   ]
  },
  {
   "cell_type": "code",
   "execution_count": 12,
   "id": "c6cc175a",
   "metadata": {},
   "outputs": [
    {
     "data": {
      "text/html": [
       "<div>\n",
       "<style scoped>\n",
       "    .dataframe tbody tr th:only-of-type {\n",
       "        vertical-align: middle;\n",
       "    }\n",
       "\n",
       "    .dataframe tbody tr th {\n",
       "        vertical-align: top;\n",
       "    }\n",
       "\n",
       "    .dataframe thead th {\n",
       "        text-align: right;\n",
       "    }\n",
       "</style>\n",
       "<table border=\"1\" class=\"dataframe\">\n",
       "  <thead>\n",
       "    <tr style=\"text-align: right;\">\n",
       "      <th></th>\n",
       "      <th>Station Name</th>\n",
       "      <th>MAC Address</th>\n",
       "      <th>Org Name</th>\n",
       "      <th>Start Date</th>\n",
       "      <th>Start Time Zone</th>\n",
       "      <th>End Date</th>\n",
       "      <th>End Time Zone</th>\n",
       "      <th>Transaction Date</th>\n",
       "      <th>Total Duration</th>\n",
       "      <th>Charging Time</th>\n",
       "      <th>...</th>\n",
       "      <th>Latitude</th>\n",
       "      <th>Longitude</th>\n",
       "      <th>Fee</th>\n",
       "      <th>Ended By</th>\n",
       "      <th>Plug In Event Id</th>\n",
       "      <th>Driver Postal Code</th>\n",
       "      <th>User ID</th>\n",
       "      <th>County</th>\n",
       "      <th>System S/N</th>\n",
       "      <th>Model Number</th>\n",
       "    </tr>\n",
       "  </thead>\n",
       "  <tbody>\n",
       "    <tr>\n",
       "      <th>32434</th>\n",
       "      <td>PALO ALTO CA / MPL #6</td>\n",
       "      <td>000D6F00015B7509</td>\n",
       "      <td>City of Palo Alto</td>\n",
       "      <td>2/25/2015 15:24</td>\n",
       "      <td>PST</td>\n",
       "      <td>2/25/2015 15:46</td>\n",
       "      <td>PST</td>\n",
       "      <td>2/25/2015 15:46</td>\n",
       "      <td>0:22:23</td>\n",
       "      <td>0:22:10</td>\n",
       "      <td>...</td>\n",
       "      <td>37.422138</td>\n",
       "      <td>-122.113457</td>\n",
       "      <td>0.00</td>\n",
       "      <td>Plug Out at Vehicle</td>\n",
       "      <td>469</td>\n",
       "      <td>95134.0</td>\n",
       "      <td>318799.0</td>\n",
       "      <td>NaN</td>\n",
       "      <td>NaN</td>\n",
       "      <td>NaN</td>\n",
       "    </tr>\n",
       "    <tr>\n",
       "      <th>108236</th>\n",
       "      <td>PALO ALTO CA / HIGH #2</td>\n",
       "      <td>0024:B100:0002:5959</td>\n",
       "      <td>City of Palo Alto</td>\n",
       "      <td>2/27/2017 11:14</td>\n",
       "      <td>PST</td>\n",
       "      <td>2/27/2017 14:17</td>\n",
       "      <td>PST</td>\n",
       "      <td>2/27/2017 14:17</td>\n",
       "      <td>3:02:42</td>\n",
       "      <td>2:33:45</td>\n",
       "      <td>...</td>\n",
       "      <td>37.443146</td>\n",
       "      <td>-122.163017</td>\n",
       "      <td>0.00</td>\n",
       "      <td>Plug Out at Vehicle</td>\n",
       "      <td>1488222853</td>\n",
       "      <td>94301.0</td>\n",
       "      <td>738281</td>\n",
       "      <td>Santa Clara County</td>\n",
       "      <td>1.640410e+11</td>\n",
       "      <td>CT4020-HD</td>\n",
       "    </tr>\n",
       "    <tr>\n",
       "      <th>109967</th>\n",
       "      <td>PALO ALTO CA / BRYANT #2</td>\n",
       "      <td>000D:6F00:009D:CFC3</td>\n",
       "      <td>City of Palo Alto</td>\n",
       "      <td>3/10/2017 14:07</td>\n",
       "      <td>PST</td>\n",
       "      <td>3/10/2017 15:53</td>\n",
       "      <td>PST</td>\n",
       "      <td>3/10/2017 15:53</td>\n",
       "      <td>1:46:01</td>\n",
       "      <td>1:24:31</td>\n",
       "      <td>...</td>\n",
       "      <td>37.446510</td>\n",
       "      <td>-122.162140</td>\n",
       "      <td>0.00</td>\n",
       "      <td>Customer</td>\n",
       "      <td>9453</td>\n",
       "      <td>94065.0</td>\n",
       "      <td>548777</td>\n",
       "      <td>Santa Clara County</td>\n",
       "      <td>1.023100e+11</td>\n",
       "      <td>CT2100-HD-CCR</td>\n",
       "    </tr>\n",
       "    <tr>\n",
       "      <th>206765</th>\n",
       "      <td>PALO ALTO CA / BRYANT #5</td>\n",
       "      <td>0024:B100:0002:6D51</td>\n",
       "      <td>City of Palo Alto</td>\n",
       "      <td>4/29/2019 8:10</td>\n",
       "      <td>PDT</td>\n",
       "      <td>4/29/2019 9:09</td>\n",
       "      <td>PDT</td>\n",
       "      <td>4/29/2019 9:10</td>\n",
       "      <td>0:59:06</td>\n",
       "      <td>0:57:54</td>\n",
       "      <td>...</td>\n",
       "      <td>37.446690</td>\n",
       "      <td>-122.162231</td>\n",
       "      <td>1.33</td>\n",
       "      <td>Plug Out at Vehicle</td>\n",
       "      <td>3413</td>\n",
       "      <td>94027.0</td>\n",
       "      <td>4516921.0</td>\n",
       "      <td>Santa Clara County</td>\n",
       "      <td>1.707410e+11</td>\n",
       "      <td>CT4020-HD</td>\n",
       "    </tr>\n",
       "  </tbody>\n",
       "</table>\n",
       "<p>4 rows × 30 columns</p>\n",
       "</div>"
      ],
      "text/plain": [
       "                    Station Name          MAC Address            Org Name  \\\n",
       "32434      PALO ALTO CA / MPL #6     000D6F00015B7509  City of Palo Alto    \n",
       "108236    PALO ALTO CA / HIGH #2  0024:B100:0002:5959  City of Palo Alto    \n",
       "109967  PALO ALTO CA / BRYANT #2  000D:6F00:009D:CFC3  City of Palo Alto    \n",
       "206765  PALO ALTO CA / BRYANT #5  0024:B100:0002:6D51  City of Palo Alto    \n",
       "\n",
       "             Start Date Start Time Zone         End Date End Time Zone  \\\n",
       "32434   2/25/2015 15:24             PST  2/25/2015 15:46           PST   \n",
       "108236  2/27/2017 11:14             PST  2/27/2017 14:17           PST   \n",
       "109967  3/10/2017 14:07             PST  3/10/2017 15:53           PST   \n",
       "206765   4/29/2019 8:10             PDT   4/29/2019 9:09           PDT   \n",
       "\n",
       "       Transaction Date Total Duration Charging Time  ...   Latitude  \\\n",
       "32434   2/25/2015 15:46        0:22:23       0:22:10  ...  37.422138   \n",
       "108236  2/27/2017 14:17        3:02:42       2:33:45  ...  37.443146   \n",
       "109967  3/10/2017 15:53        1:46:01       1:24:31  ...  37.446510   \n",
       "206765   4/29/2019 9:10        0:59:06       0:57:54  ...  37.446690   \n",
       "\n",
       "         Longitude   Fee             Ended By  Plug In Event Id  \\\n",
       "32434  -122.113457  0.00  Plug Out at Vehicle               469   \n",
       "108236 -122.163017  0.00  Plug Out at Vehicle        1488222853   \n",
       "109967 -122.162140  0.00             Customer              9453   \n",
       "206765 -122.162231  1.33  Plug Out at Vehicle              3413   \n",
       "\n",
       "       Driver Postal Code    User ID              County    System S/N  \\\n",
       "32434             95134.0   318799.0                 NaN           NaN   \n",
       "108236            94301.0     738281  Santa Clara County  1.640410e+11   \n",
       "109967            94065.0     548777  Santa Clara County  1.023100e+11   \n",
       "206765            94027.0  4516921.0  Santa Clara County  1.707410e+11   \n",
       "\n",
       "         Model Number  \n",
       "32434             NaN  \n",
       "108236      CT4020-HD  \n",
       "109967  CT2100-HD-CCR  \n",
       "206765      CT4020-HD  \n",
       "\n",
       "[4 rows x 30 columns]"
      ]
     },
     "execution_count": 12,
     "metadata": {},
     "output_type": "execute_result"
    }
   ],
   "source": [
    "df[df.duplicated] #this is okay therefore will not drop this rows"
   ]
  },
  {
   "cell_type": "code",
   "execution_count": 15,
   "id": "90c4bcdb",
   "metadata": {},
   "outputs": [
    {
     "data": {
      "text/html": [
       "<div>\n",
       "<style scoped>\n",
       "    .dataframe tbody tr th:only-of-type {\n",
       "        vertical-align: middle;\n",
       "    }\n",
       "\n",
       "    .dataframe tbody tr th {\n",
       "        vertical-align: top;\n",
       "    }\n",
       "\n",
       "    .dataframe thead th {\n",
       "        text-align: right;\n",
       "    }\n",
       "</style>\n",
       "<table border=\"1\" class=\"dataframe\">\n",
       "  <thead>\n",
       "    <tr style=\"text-align: right;\">\n",
       "      <th></th>\n",
       "      <th>count</th>\n",
       "      <th>mean</th>\n",
       "      <th>std</th>\n",
       "      <th>min</th>\n",
       "      <th>25%</th>\n",
       "      <th>50%</th>\n",
       "      <th>75%</th>\n",
       "      <th>max</th>\n",
       "    </tr>\n",
       "  </thead>\n",
       "  <tbody>\n",
       "    <tr>\n",
       "      <th>Energy</th>\n",
       "      <td>259415.0</td>\n",
       "      <td>8.544277e+00</td>\n",
       "      <td>7.185462e+00</td>\n",
       "      <td>1.000000e-02</td>\n",
       "      <td>3.784000e+00</td>\n",
       "      <td>6.868634e+00</td>\n",
       "      <td>1.145834e+01</td>\n",
       "      <td>9.736000e+01</td>\n",
       "    </tr>\n",
       "    <tr>\n",
       "      <th>GreenHouseGasSave</th>\n",
       "      <td>259415.0</td>\n",
       "      <td>3.588596e+00</td>\n",
       "      <td>3.017894e+00</td>\n",
       "      <td>4.000000e-03</td>\n",
       "      <td>1.589000e+00</td>\n",
       "      <td>2.885000e+00</td>\n",
       "      <td>4.813000e+00</td>\n",
       "      <td>4.089100e+01</td>\n",
       "    </tr>\n",
       "    <tr>\n",
       "      <th>Gasoline Savings</th>\n",
       "      <td>259415.0</td>\n",
       "      <td>1.072306e+00</td>\n",
       "      <td>9.017761e-01</td>\n",
       "      <td>1.000000e-03</td>\n",
       "      <td>4.750000e-01</td>\n",
       "      <td>8.620000e-01</td>\n",
       "      <td>1.438000e+00</td>\n",
       "      <td>1.221900e+01</td>\n",
       "    </tr>\n",
       "    <tr>\n",
       "      <th>Port Number</th>\n",
       "      <td>259415.0</td>\n",
       "      <td>1.591627e+00</td>\n",
       "      <td>4.915337e-01</td>\n",
       "      <td>1.000000e+00</td>\n",
       "      <td>1.000000e+00</td>\n",
       "      <td>2.000000e+00</td>\n",
       "      <td>2.000000e+00</td>\n",
       "      <td>2.000000e+00</td>\n",
       "    </tr>\n",
       "    <tr>\n",
       "      <th>EVSE ID</th>\n",
       "      <td>180467.0</td>\n",
       "      <td>1.462973e+05</td>\n",
       "      <td>2.429677e+05</td>\n",
       "      <td>3.792000e+03</td>\n",
       "      <td>4.358300e+04</td>\n",
       "      <td>1.074270e+05</td>\n",
       "      <td>1.745590e+05</td>\n",
       "      <td>5.535441e+06</td>\n",
       "    </tr>\n",
       "    <tr>\n",
       "      <th>Postal Code</th>\n",
       "      <td>259415.0</td>\n",
       "      <td>9.430232e+04</td>\n",
       "      <td>1.941657e+00</td>\n",
       "      <td>9.430100e+04</td>\n",
       "      <td>9.430100e+04</td>\n",
       "      <td>9.430100e+04</td>\n",
       "      <td>9.430300e+04</td>\n",
       "      <td>9.430600e+04</td>\n",
       "    </tr>\n",
       "    <tr>\n",
       "      <th>Latitude</th>\n",
       "      <td>259415.0</td>\n",
       "      <td>3.743956e+01</td>\n",
       "      <td>9.621170e-03</td>\n",
       "      <td>3.742210e+01</td>\n",
       "      <td>3.742832e+01</td>\n",
       "      <td>3.744449e+01</td>\n",
       "      <td>3.744661e+01</td>\n",
       "      <td>3.744938e+01</td>\n",
       "    </tr>\n",
       "    <tr>\n",
       "      <th>Longitude</th>\n",
       "      <td>259415.0</td>\n",
       "      <td>-1.221513e+02</td>\n",
       "      <td>1.538203e-02</td>\n",
       "      <td>-1.221632e+02</td>\n",
       "      <td>-1.221622e+02</td>\n",
       "      <td>-1.221583e+02</td>\n",
       "      <td>-1.221457e+02</td>\n",
       "      <td>-1.221125e+02</td>\n",
       "    </tr>\n",
       "    <tr>\n",
       "      <th>Fee</th>\n",
       "      <td>259415.0</td>\n",
       "      <td>1.097481e+00</td>\n",
       "      <td>1.934408e+00</td>\n",
       "      <td>0.000000e+00</td>\n",
       "      <td>0.000000e+00</td>\n",
       "      <td>0.000000e+00</td>\n",
       "      <td>1.640000e+00</td>\n",
       "      <td>8.456000e+01</td>\n",
       "    </tr>\n",
       "    <tr>\n",
       "      <th>Plug In Event Id</th>\n",
       "      <td>259415.0</td>\n",
       "      <td>1.188685e+08</td>\n",
       "      <td>4.057750e+08</td>\n",
       "      <td>1.000000e+00</td>\n",
       "      <td>1.573000e+03</td>\n",
       "      <td>3.573000e+03</td>\n",
       "      <td>6.340000e+03</td>\n",
       "      <td>1.609436e+09</td>\n",
       "    </tr>\n",
       "    <tr>\n",
       "      <th>Driver Postal Code</th>\n",
       "      <td>251013.0</td>\n",
       "      <td>9.417031e+04</td>\n",
       "      <td>4.249837e+03</td>\n",
       "      <td>1.013000e+03</td>\n",
       "      <td>9.408700e+04</td>\n",
       "      <td>9.430400e+04</td>\n",
       "      <td>9.480400e+04</td>\n",
       "      <td>9.935400e+04</td>\n",
       "    </tr>\n",
       "    <tr>\n",
       "      <th>System S/N</th>\n",
       "      <td>180467.0</td>\n",
       "      <td>1.443790e+11</td>\n",
       "      <td>2.483280e+10</td>\n",
       "      <td>1.023100e+11</td>\n",
       "      <td>1.231100e+11</td>\n",
       "      <td>1.427410e+11</td>\n",
       "      <td>1.705410e+11</td>\n",
       "      <td>2.002410e+11</td>\n",
       "    </tr>\n",
       "  </tbody>\n",
       "</table>\n",
       "</div>"
      ],
      "text/plain": [
       "                       count          mean           std           min  \\\n",
       "Energy              259415.0  8.544277e+00  7.185462e+00  1.000000e-02   \n",
       "GreenHouseGasSave   259415.0  3.588596e+00  3.017894e+00  4.000000e-03   \n",
       "Gasoline Savings    259415.0  1.072306e+00  9.017761e-01  1.000000e-03   \n",
       "Port Number         259415.0  1.591627e+00  4.915337e-01  1.000000e+00   \n",
       "EVSE ID             180467.0  1.462973e+05  2.429677e+05  3.792000e+03   \n",
       "Postal Code         259415.0  9.430232e+04  1.941657e+00  9.430100e+04   \n",
       "Latitude            259415.0  3.743956e+01  9.621170e-03  3.742210e+01   \n",
       "Longitude           259415.0 -1.221513e+02  1.538203e-02 -1.221632e+02   \n",
       "Fee                 259415.0  1.097481e+00  1.934408e+00  0.000000e+00   \n",
       "Plug In Event Id    259415.0  1.188685e+08  4.057750e+08  1.000000e+00   \n",
       "Driver Postal Code  251013.0  9.417031e+04  4.249837e+03  1.013000e+03   \n",
       "System S/N          180467.0  1.443790e+11  2.483280e+10  1.023100e+11   \n",
       "\n",
       "                             25%           50%           75%           max  \n",
       "Energy              3.784000e+00  6.868634e+00  1.145834e+01  9.736000e+01  \n",
       "GreenHouseGasSave   1.589000e+00  2.885000e+00  4.813000e+00  4.089100e+01  \n",
       "Gasoline Savings    4.750000e-01  8.620000e-01  1.438000e+00  1.221900e+01  \n",
       "Port Number         1.000000e+00  2.000000e+00  2.000000e+00  2.000000e+00  \n",
       "EVSE ID             4.358300e+04  1.074270e+05  1.745590e+05  5.535441e+06  \n",
       "Postal Code         9.430100e+04  9.430100e+04  9.430300e+04  9.430600e+04  \n",
       "Latitude            3.742832e+01  3.744449e+01  3.744661e+01  3.744938e+01  \n",
       "Longitude          -1.221622e+02 -1.221583e+02 -1.221457e+02 -1.221125e+02  \n",
       "Fee                 0.000000e+00  0.000000e+00  1.640000e+00  8.456000e+01  \n",
       "Plug In Event Id    1.573000e+03  3.573000e+03  6.340000e+03  1.609436e+09  \n",
       "Driver Postal Code  9.408700e+04  9.430400e+04  9.480400e+04  9.935400e+04  \n",
       "System S/N          1.231100e+11  1.427410e+11  1.705410e+11  2.002410e+11  "
      ]
     },
     "execution_count": 15,
     "metadata": {},
     "output_type": "execute_result"
    }
   ],
   "source": [
    "df.describe().T\n",
    "#Univartriate Analysis\n",
    "#This dataset contains only numerical values\n",
    "#Summary statistic"
   ]
  },
  {
   "cell_type": "code",
   "execution_count": 16,
   "id": "5f071895",
   "metadata": {},
   "outputs": [
    {
     "data": {
      "text/plain": [
       "Station Name\n",
       " HAMILTON #2        23721\n",
       " HAMILTON #1        14888\n",
       " WEBSTER #1         14432\n",
       " BRYANT #2          14389\n",
       " HIGH #4            13898\n",
       " BRYANT #1          13436\n",
       " WEBSTER #2         12669\n",
       " CAMBRIDGE #1       11163\n",
       " HIGH #1            10756\n",
       " WEBSTER #3         10484\n",
       " TED THOMPSON #1     9814\n",
       " CAMBRIDGE #2        9256\n",
       " MPL #6              8996\n",
       " HIGH #3             8317\n",
       " MPL #4              7787\n",
       " MPL #5              7544\n",
       " HIGH #2             6930\n",
       " RINCONADA LIB 3     6499\n",
       " RINCONADA LIB 1     6212\n",
       " BRYANT #6           5857\n",
       " RINCONADA LIB 2     5553\n",
       " BRYANT #5           5332\n",
       " CAMBRIDGE #5        4556\n",
       " CAMBRIDGE #3        4476\n",
       " BRYANT #3           4475\n",
       " BRYANT #4           3598\n",
       " CAMBRIDGE #4        3428\n",
       " TED THOMPSON #3     2455\n",
       " TED THOMPSON #4     2226\n",
       " TED THOMPSON #2     2217\n",
       " MPL #2              1535\n",
       " MPL #3              1420\n",
       " MPL #1              1044\n",
       " BRYANT # 1            13\n",
       " SHERMAN 3              8\n",
       " SHERMAN 1              7\n",
       " SHERMAN 2              4\n",
       " SHERMAN 4              4\n",
       " SHERMAN 7              4\n",
       " SHERMAN 6              3\n",
       " SHERMAN 8              2\n",
       " SHERMAN 14             2\n",
       " SHERMAN 9              1\n",
       " SHERMAN 5              1\n",
       " SHERMAN 15             1\n",
       " SHERMAN 11             1\n",
       " SHERMAN 17             1\n",
       "Name: count, dtype: int64"
      ]
     },
     "execution_count": 16,
     "metadata": {},
     "output_type": "execute_result"
    }
   ],
   "source": [
    "#replace and fix grammar mistakes \n",
    "df['Station Name'] = df['Station Name'].str.replace('PALO ALTO CA /','')\n",
    "df['Station Name'].value_counts()\n"
   ]
  },
  {
   "cell_type": "code",
   "execution_count": 17,
   "id": "6f3c063f",
   "metadata": {},
   "outputs": [
    {
     "data": {
      "text/plain": [
       "Index(['Station Name', 'MAC Address', 'Org Name', 'Start Date',\n",
       "       'Start Time Zone', 'End Date', 'End Time Zone', 'Transaction Date',\n",
       "       'Total Duration', 'Charging Time', 'Energy', 'GreenHouseGasSave',\n",
       "       'Gasoline Savings', 'Port Type', 'Port Number', 'Plug Type', 'EVSE ID',\n",
       "       'Address 1', 'City', 'Postal Code', 'Latitude', 'Longitude', 'Fee',\n",
       "       'Ended By', 'Plug In Event Id', 'Driver Postal Code', 'User ID',\n",
       "       'County', 'System S/N', 'Model Number'],\n",
       "      dtype='object')"
      ]
     },
     "execution_count": 17,
     "metadata": {},
     "output_type": "execute_result"
    }
   ],
   "source": [
    "df.columns"
   ]
  },
  {
   "cell_type": "code",
   "execution_count": 18,
   "id": "524f0a8a",
   "metadata": {},
   "outputs": [],
   "source": [
    "df['Station Name'] = df['Station Name'].replace({'BRYANT # 1': 'BRYANT #1'})"
   ]
  },
  {
   "cell_type": "code",
   "execution_count": 19,
   "id": "425c38cf",
   "metadata": {},
   "outputs": [],
   "source": [
    "#replace and fix grammar mistakes\n",
    "df['Address 1'] = df['Address 1'].replace({'Bryant St' : '445 Bryant St','528 High St.':'528 high st','500-532 Webster St':'532 Webster St'})"
   ]
  },
  {
   "cell_type": "code",
   "execution_count": 20,
   "id": "7192c234",
   "metadata": {},
   "outputs": [
    {
     "data": {
      "text/plain": [
       "Address 1\n",
       "445 Bryant St          47100\n",
       "250 Hamilton Ave       38609\n",
       "528 High St            37836\n",
       "3700 Middlefield Rd    28326\n",
       "520 Webster St         25173\n",
       "475 Cambridge Ave      20230\n",
       "275 Cambridge Ave      16712\n",
       "400 Cambridge Ave      12649\n",
       "532 Webster St         12382\n",
       "1213 Newell Rd         12249\n",
       "1520 Walnut Dr          3845\n",
       "1514 Walnut Dr          2170\n",
       "528 high st             2065\n",
       "350 Sherman Ave           34\n",
       "520 Cowper St             19\n",
       "533 Cowper St             11\n",
       "358 Sherman Ave            5\n",
       "Name: count, dtype: int64"
      ]
     },
     "execution_count": 20,
     "metadata": {},
     "output_type": "execute_result"
    }
   ],
   "source": [
    "df['Address 1'].value_counts()"
   ]
  },
  {
   "cell_type": "code",
   "execution_count": 21,
   "id": "9cfe6707",
   "metadata": {},
   "outputs": [],
   "source": [
    "\n",
    "#Convert columns TotalDuration and charging time to seconds\n",
    "\n",
    "df['Total Duration'] = pd.to_timedelta(df['Total Duration']).dt.total_seconds()\n",
    "df['Charging Time'] = pd.to_timedelta(df['Charging Time']).dt.total_seconds()\n",
    "df['TimeAfterCharged'] = (df['Total Duration'] - df['Charging Time']) / 60\n",
    "\n",
    "#convert start year by year in order to calculate other necessary calculation\n",
    "df['ByYear'] = pd.to_datetime(df['Start Date']).dt.year\n",
    "\n",
    "\n"
   ]
  },
  {
   "cell_type": "code",
   "execution_count": 22,
   "id": "b05c6ad2",
   "metadata": {},
   "outputs": [
    {
     "data": {
      "text/plain": [
       "Postal Code\n",
       "94301    163195\n",
       "94306     49630\n",
       "94303     46590\n",
       "Name: count, dtype: int64"
      ]
     },
     "execution_count": 22,
     "metadata": {},
     "output_type": "execute_result"
    }
   ],
   "source": [
    "df['Postal Code'].value_counts()"
   ]
  },
  {
   "cell_type": "markdown",
   "id": "9584dae8",
   "metadata": {},
   "source": [
    "Postal codes 94301, 94303, and 94306, among California's wealthiest areas, are surrounded by notable attractions including Stanford University, nearby national parks, and cultural landmarks such as the Palo Alto Museum and Zoo."
   ]
  },
  {
   "cell_type": "code",
   "execution_count": 23,
   "id": "87cb2e1b",
   "metadata": {},
   "outputs": [
    {
     "data": {
      "text/plain": [
       "Address 1            Postal Code\n",
       "1213 Newell Rd       94303          126.926699\n",
       "1514 Walnut Dr       94303          111.107373\n",
       "1520 Walnut Dr       94303          114.623853\n",
       "250 Hamilton Ave     94301          122.241453\n",
       "275 Cambridge Ave    94306          133.946119\n",
       "350 Sherman Ave      94306          142.020588\n",
       "358 Sherman Ave      94306          168.450000\n",
       "3700 Middlefield Rd  94303          113.881894\n",
       "400 Cambridge Ave    94306          120.582837\n",
       "445 Bryant St        94301          121.911465\n",
       "475 Cambridge Ave    94306           98.998435\n",
       "520 Cowper St        94301          132.088596\n",
       "520 Webster St       94301          126.352806\n",
       "528 High St          94301          114.994926\n",
       "528 high st          94301          120.384487\n",
       "532 Webster St       94301          132.109344\n",
       "533 Cowper St        94301          132.372727\n",
       "Name: Charging Time, dtype: float64"
      ]
     },
     "execution_count": 23,
     "metadata": {},
     "output_type": "execute_result"
    }
   ],
   "source": [
    "df.groupby(['Address 1','Postal Code'])['Charging Time'].mean()/60\n",
    "#Find the mean of charging time per address and postal code \n",
    "#convert back to minute for convenient readiblity"
   ]
  },
  {
   "cell_type": "code",
   "execution_count": 24,
   "id": "5c7e7ebc",
   "metadata": {},
   "outputs": [
    {
     "data": {
      "text/plain": [
       "Station Name      Address 1          \n",
       " SHERMAN 8        350 Sherman Ave        342.808333\n",
       " SHERMAN 7        358 Sherman Ave        192.383333\n",
       " SHERMAN 11       350 Sherman Ave        177.800000\n",
       " SHERMAN 1        350 Sherman Ave        175.871429\n",
       " SHERMAN 3        350 Sherman Ave        146.033333\n",
       " TED THOMPSON #2  275 Cambridge Ave      143.128695\n",
       " TED THOMPSON #1  275 Cambridge Ave      133.374890\n",
       " WEBSTER #2       532 Webster St         133.338010\n",
       " TED THOMPSON #4  275 Cambridge Ave      132.406020\n",
       " WEBSTER #3       533 Cowper St          132.372727\n",
       "                  520 Cowper St          132.088596\n",
       " WEBSTER #1       532 Webster St         130.913187\n",
       " TED THOMPSON #3  275 Cambridge Ave      129.333707\n",
       " RINCONADA LIB 1  1213 Newell Rd         129.125982\n",
       " BRYANT #4        445 Bryant St          128.636900\n",
       " RINCONADA LIB 2  1213 Newell Rd         128.104617\n",
       " WEBSTER #1       520 Webster St         127.152807\n",
       " WEBSTER #2       520 Webster St         126.688653\n",
       " WEBSTER #3       520 Webster St         125.517728\n",
       " MPL #2           3700 Middlefield Rd    124.929815\n",
       " HIGH #2          528 high st            124.862406\n",
       " BRYANT #1        445 Bryant St          124.305829\n",
       " RINCONADA LIB 3  1213 Newell Rd         123.796550\n",
       " HAMILTON #1      250 Hamilton Ave       122.573980\n",
       " HAMILTON #2      250 Hamilton Ave       122.032749\n",
       " BRYANT #6        445 Bryant St          121.938891\n",
       " CAMBRIDGE #2     400 Cambridge Ave      121.709441\n",
       " BRYANT #3        445 Bryant St          120.363605\n",
       " MPL #3           3700 Middlefield Rd    120.201772\n",
       " BRYANT #2        445 Bryant St          120.157149\n",
       " CAMBRIDGE #1     400 Cambridge Ave      119.509963\n",
       " MPL #1           3700 Middlefield Rd    119.399824\n",
       " BRYANT #5        445 Bryant St          117.403607\n",
       " HIGH #4          528 High St            117.019525\n",
       " SHERMAN 2        350 Sherman Ave        115.920833\n",
       " HIGH #1          528 High St            115.694025\n",
       " RINCONADA LIB 2  1520 Walnut Dr         115.668271\n",
       " HIGH #4          528 high st            114.317987\n",
       " HIGH #2          528 High St            113.950392\n",
       " RINCONADA LIB 1  1520 Walnut Dr         113.736676\n",
       " MPL #4           3700 Middlefield Rd    113.644174\n",
       " SHERMAN 6        350 Sherman Ave        112.244444\n",
       " MPL #6           3700 Middlefield Rd    112.124450\n",
       " MPL #5           3700 Middlefield Rd    112.021816\n",
       " HIGH #3          528 High St            111.639773\n",
       " RINCONADA LIB 3  1514 Walnut Dr         111.107373\n",
       " SHERMAN 15       350 Sherman Ave        109.283333\n",
       " CAMBRIDGE #2     475 Cambridge Ave      104.686417\n",
       " CAMBRIDGE #1     475 Cambridge Ave      103.287030\n",
       " CAMBRIDGE #5     475 Cambridge Ave       99.382689\n",
       " SHERMAN 4        350 Sherman Ave         99.154167\n",
       " BRYANT # 1       445 Bryant St           96.989744\n",
       " CAMBRIDGE #3     475 Cambridge Ave       95.238356\n",
       " CAMBRIDGE #4     475 Cambridge Ave       92.416915\n",
       " SHERMAN 14       350 Sherman Ave         91.325000\n",
       " SHERMAN 17       358 Sherman Ave         72.716667\n",
       " HIGH #3          528 high st             62.150000\n",
       " SHERMAN 9        350 Sherman Ave         48.150000\n",
       " SHERMAN 5        350 Sherman Ave         28.800000\n",
       "Name: Charging Time, dtype: float64"
      ]
     },
     "execution_count": 24,
     "metadata": {},
     "output_type": "execute_result"
    }
   ],
   "source": [
    "avgTimeBy_St = df.groupby(['Station Name', 'Address 1'])['Charging Time'].mean() / 60\n",
    "avgTimeBy_St.sort_values(ascending=False)\n",
    "#changing it to minute \n",
    "#average charging time by station\n"
   ]
  },
  {
   "cell_type": "markdown",
   "id": "00e8f5e7",
   "metadata": {},
   "source": [
    "Charging Station SHERMAN 8 350 Sherman Ave located Standford University. It has the highest average charging mean time"
   ]
  },
  {
   "cell_type": "code",
   "execution_count": 25,
   "id": "c6a420d2",
   "metadata": {
    "scrolled": true
   },
   "outputs": [
    {
     "data": {
      "image/png": "[encoded data removed]",
      "text/plain": [
       "<Figure size 1200x1200 with 1 Axes>"
      ]
     },
     "metadata": {},
     "output_type": "display_data"
    }
   ],
   "source": [
    "#create histogram to show \n",
    "plt.figure(figsize = (12,12))\n",
    "avgPerStation = df.groupby('Station Name')['Charging Time'].mean()/60 #convert back to minute fore readablity\n",
    "avgPerStations = avgPerStation.sort_values(ascending=False)\n",
    "avgPerStations.plot(kind='bar', color='green')\n",
    "plt.title('Average Charging Time by Station')\n",
    "plt.xlabel('Station Name')\n",
    "plt.ylabel('Average Charging Time by Minute')\n",
    "plt.show()"
   ]
  },
  {
   "cell_type": "markdown",
   "id": "9c652212",
   "metadata": {},
   "source": [
    "Average time of Sherman 8 station is 342.808333 and address is 350 Sherman Ave."
   ]
  },
  {
   "cell_type": "markdown",
   "id": "312d5a76",
   "metadata": {},
   "source": [
    "Dec 20 EDA process\n"
   ]
  },
  {
   "cell_type": "code",
   "execution_count": 26,
   "id": "dca95542",
   "metadata": {},
   "outputs": [],
   "source": [
    "df['Station Name'] = df['Station Name'].str.replace('BRYANT # 1', 'BRYANT #1')"
   ]
  },
  {
   "cell_type": "code",
   "execution_count": 27,
   "id": "8bfdfad1",
   "metadata": {},
   "outputs": [],
   "source": [
    "#Create column for overall fee for charging at the station\n",
    "df['Total_Amount_For_Charging']  = df['Fee'] * df['Charging Time']"
   ]
  },
  {
   "cell_type": "code",
   "execution_count": 28,
   "id": "735855c5",
   "metadata": {
    "scrolled": true
   },
   "outputs": [
    {
     "data": {
      "text/plain": [
       "Station Name  ByYear\n",
       " BRYANT #1    2011      0.000000e+00\n",
       "              2012      0.000000e+00\n",
       "              2013      0.000000e+00\n",
       "              2014      0.000000e+00\n",
       "              2015      0.000000e+00\n",
       "                            ...     \n",
       " WEBSTER #3   2016      0.000000e+00\n",
       "              2017      3.270808e+06\n",
       "              2018      8.311808e+06\n",
       "              2019      1.016438e+07\n",
       "              2020      5.872740e+06\n",
       "Length: 204, dtype: float64"
      ]
     },
     "execution_count": 28,
     "metadata": {},
     "output_type": "execute_result"
    }
   ],
   "source": [
    "#I wanted to calculate the total amount but still need to work on it\n",
    "total_amount_by_year = df.groupby(['Station Name', 'ByYear'])['Total_Amount_For_Charging'].sum() / df.groupby('Station Name')['ByYear'].nunique()\n",
    "total_amount_by_year "
   ]
  },
  {
   "cell_type": "markdown",
   "id": "cd63f7b5",
   "metadata": {},
   "source": [
    "Total charging fee accumulate over 9 years"
   ]
  },
  {
   "cell_type": "code",
   "execution_count": 29,
   "id": "e14bffb2",
   "metadata": {},
   "outputs": [
    {
     "data": {
      "image/png": "[encoded data removed]",
      "text/plain": [
       "<Figure size 1200x1200 with 1 Axes>"
      ]
     },
     "metadata": {},
     "output_type": "display_data"
    }
   ],
   "source": [
    "#create histogram and see which station has highest \n",
    "plt.figure(figsize=(12,12))\n",
    "totalAmount = df.groupby('Station Name')['Total_Amount_For_Charging'].sum()\n",
    "total_Amount = totalAmount.sort_values(ascending=False)\n",
    "total_Amount.plot(kind='bar', color = 'green')\n",
    "plt.title('Total Sale Per Charging Station Over 9 Years')\n",
    "plt.xlabel('Station Name')\n",
    "plt.ylabel('Total Charging Fees')\n",
    "plt.show()\n",
    "\n",
    "#Again break this down to month and year"
   ]
  },
  {
   "cell_type": "code",
   "execution_count": 30,
   "id": "8e13b87e",
   "metadata": {},
   "outputs": [
    {
     "name": "stdout",
     "output_type": "stream",
     "text": [
      "Station Name                 0\n",
      "MAC Address                  0\n",
      "Org Name                     0\n",
      "Start Date                   0\n",
      "Start Time Zone              0\n",
      "End Date                     0\n",
      "End Time Zone                0\n",
      "Transaction Date             0\n",
      "Total Duration               0\n",
      "Charging Time                0\n",
      "Energy                       0\n",
      "GreenHouseGasSave            0\n",
      "Gasoline Savings             0\n",
      "Port Type                    0\n",
      "Port Number                  0\n",
      "Plug Type                    0\n",
      "EVSE ID                      0\n",
      "Address 1                    0\n",
      "City                         0\n",
      "Postal Code                  0\n",
      "Latitude                     0\n",
      "Longitude                    0\n",
      "Fee                          0\n",
      "Ended By                     0\n",
      "Plug In Event Id             0\n",
      "Driver Postal Code           0\n",
      "User ID                      0\n",
      "County                       0\n",
      "System S/N                   0\n",
      "Model Number                 0\n",
      "TimeAfterCharged             0\n",
      "ByYear                       0\n",
      "Total_Amount_For_Charging    0\n",
      "dtype: int64\n"
     ]
    }
   ],
   "source": [
    "#Display column names and cunt with Nulls\n",
    "print(df[df == np.inf].count())"
   ]
  },
  {
   "cell_type": "code",
   "execution_count": 31,
   "id": "b7d76ae4",
   "metadata": {},
   "outputs": [
    {
     "data": {
      "text/plain": [
       "County\n",
       "Santa Clara County    147263\n",
       "San Mateo County       27487\n",
       "Name: count, dtype: int64"
      ]
     },
     "execution_count": 31,
     "metadata": {},
     "output_type": "execute_result"
    }
   ],
   "source": [
    "df['County'].value_counts()"
   ]
  },
  {
   "cell_type": "code",
   "execution_count": 32,
   "id": "de6db0c3",
   "metadata": {},
   "outputs": [
    {
     "data": {
      "text/plain": [
       "84665"
      ]
     },
     "execution_count": 32,
     "metadata": {},
     "output_type": "execute_result"
    }
   ],
   "source": [
    "df['County'].isna().sum()"
   ]
  },
  {
   "cell_type": "code",
   "execution_count": 34,
   "id": "87466d3c",
   "metadata": {},
   "outputs": [
    {
     "data": {
      "text/plain": [
       "Station Name      Address 1          \n",
       " BRYANT #1        445 Bryant St           4533.72\n",
       " BRYANT #2        445 Bryant St           4990.83\n",
       " BRYANT #3        445 Bryant St           4405.75\n",
       " BRYANT #4        445 Bryant St           9128.43\n",
       " BRYANT #5        445 Bryant St          12248.09\n",
       " BRYANT #6        445 Bryant St          13823.15\n",
       " CAMBRIDGE #1     400 Cambridge Ave       2615.48\n",
       "                  475 Cambridge Ave       9306.56\n",
       " CAMBRIDGE #2     400 Cambridge Ave       2380.50\n",
       "                  475 Cambridge Ave       5477.47\n",
       " CAMBRIDGE #3     475 Cambridge Ave       7956.90\n",
       " CAMBRIDGE #4     475 Cambridge Ave       6476.15\n",
       " CAMBRIDGE #5     475 Cambridge Ave       9320.19\n",
       " HAMILTON #1      250 Hamilton Ave        7742.34\n",
       " HAMILTON #2      250 Hamilton Ave       20964.32\n",
       " HIGH #1          528 High St            10275.88\n",
       " HIGH #2          528 High St            12352.17\n",
       "                  528 high st                0.00\n",
       " HIGH #3          528 High St            14752.21\n",
       "                  528 high st                0.00\n",
       " HIGH #4          528 High St             8027.81\n",
       "                  528 high st             1087.63\n",
       " MPL #1           3700 Middlefield Rd      266.83\n",
       " MPL #2           3700 Middlefield Rd      439.07\n",
       " MPL #3           3700 Middlefield Rd      359.65\n",
       " MPL #4           3700 Middlefield Rd     7172.28\n",
       " MPL #5           3700 Middlefield Rd     6489.14\n",
       " MPL #6           3700 Middlefield Rd     8413.40\n",
       " RINCONADA LIB 1  1213 Newell Rd          5195.69\n",
       "                  1520 Walnut Dr             0.00\n",
       " RINCONADA LIB 2  1213 Newell Rd          4525.83\n",
       "                  1520 Walnut Dr             0.00\n",
       " RINCONADA LIB 3  1213 Newell Rd          5162.25\n",
       "                  1514 Walnut Dr             0.00\n",
       " SHERMAN 1        350 Sherman Ave           25.83\n",
       " SHERMAN 11       350 Sherman Ave            3.95\n",
       " SHERMAN 14       350 Sherman Ave            4.22\n",
       " SHERMAN 15       350 Sherman Ave            2.52\n",
       " SHERMAN 17       358 Sherman Ave            1.56\n",
       " SHERMAN 2        350 Sherman Ave           10.99\n",
       " SHERMAN 3        350 Sherman Ave           23.60\n",
       " SHERMAN 4        350 Sherman Ave            5.28\n",
       " SHERMAN 5        350 Sherman Ave            0.33\n",
       " SHERMAN 6        350 Sherman Ave            7.74\n",
       " SHERMAN 7        358 Sherman Ave           18.10\n",
       " SHERMAN 8        350 Sherman Ave           22.78\n",
       " SHERMAN 9        350 Sherman Ave            1.13\n",
       " TED THOMPSON #1  275 Cambridge Ave      13159.14\n",
       " TED THOMPSON #2  275 Cambridge Ave       6311.68\n",
       " TED THOMPSON #3  275 Cambridge Ave       6195.54\n",
       " TED THOMPSON #4  275 Cambridge Ave       5491.81\n",
       " WEBSTER #1       520 Webster St         18889.71\n",
       "                  532 Webster St             0.00\n",
       " WEBSTER #2       520 Webster St         15571.17\n",
       "                  532 Webster St             0.00\n",
       " WEBSTER #3       520 Cowper St              0.00\n",
       "                  520 Webster St         13066.16\n",
       "                  533 Cowper St              0.00\n",
       "Name: Fee, dtype: float64"
      ]
     },
     "execution_count": 34,
     "metadata": {},
     "output_type": "execute_result"
    }
   ],
   "source": [
    "#This is overall sum of fees on all stations and location\n",
    "df.groupby(['Station Name','Address 1'])['Fee'].sum()\n",
    "#Problem need to fix ask Stephen for further details"
   ]
  },
  {
   "cell_type": "code",
   "execution_count": 51,
   "id": "b4fc0a32",
   "metadata": {},
   "outputs": [
    {
     "data": {
      "text/plain": [
       "array(['250 Hamilton Ave', '528 High St', '445 Bryant St',\n",
       "       '3700 Middlefield Rd', '1520 Walnut Dr', '1514 Walnut Dr',\n",
       "       '532 Webster St', '275 Cambridge Ave', '400 Cambridge Ave',\n",
       "       '520 Webster St', '1213 Newell Rd', '528 high st', '533 Cowper St',\n",
       "       '520 Cowper St', '475 Cambridge Ave'], dtype=object)"
      ]
     },
     "execution_count": 51,
     "metadata": {},
     "output_type": "execute_result"
    }
   ],
   "source": [
    "#All the address location with free charging stations\n",
    "df[df['Fee'] == 0]['Address 1'].unique()"
   ]
  },
  {
   "cell_type": "code",
   "execution_count": 52,
   "id": "54a48051",
   "metadata": {},
   "outputs": [
    {
     "data": {
      "text/plain": [
       "133538"
      ]
     },
     "execution_count": 52,
     "metadata": {},
     "output_type": "execute_result"
    }
   ],
   "source": [
    "df[df['Fee']== 0]['Fee'].count()"
   ]
  },
  {
   "cell_type": "code",
   "execution_count": 53,
   "id": "44ac4054",
   "metadata": {},
   "outputs": [
    {
     "data": {
      "text/plain": [
       "Index(['Station Name', 'MAC Address', 'Org Name', 'Start Date',\n",
       "       'Start Time Zone', 'End Date', 'End Time Zone', 'Transaction Date',\n",
       "       'Total Duration', 'Charging Time', 'Energy', 'GreenHouseGasSave',\n",
       "       'Gasoline Savings', 'Port Type', 'Port Number', 'Plug Type', 'EVSE ID',\n",
       "       'Address 1', 'City', 'Postal Code', 'Latitude', 'Longitude', 'Fee',\n",
       "       'Ended By', 'Plug In Event Id', 'Driver Postal Code', 'User ID',\n",
       "       'County', 'System S/N', 'Model Number', 'TimeAfterCharged', 'ByYear',\n",
       "       'Total_Amount_For_Charging'],\n",
       "      dtype='object')"
      ]
     },
     "execution_count": 53,
     "metadata": {},
     "output_type": "execute_result"
    }
   ],
   "source": [
    "df.columns"
   ]
  },
  {
   "cell_type": "code",
   "execution_count": 54,
   "id": "10d0a929",
   "metadata": {},
   "outputs": [],
   "source": [
    "crossT = pd.crosstab(index = df['Station Name'], columns = df['Port Type'], values = df['Fee'],aggfunc = 'mean')"
   ]
  },
  {
   "cell_type": "code",
   "execution_count": 55,
   "id": "75ceec22",
   "metadata": {},
   "outputs": [
    {
     "data": {
      "text/html": [
       "<div>\n",
       "<style scoped>\n",
       "    .dataframe tbody tr th:only-of-type {\n",
       "        vertical-align: middle;\n",
       "    }\n",
       "\n",
       "    .dataframe tbody tr th {\n",
       "        vertical-align: top;\n",
       "    }\n",
       "\n",
       "    .dataframe thead th {\n",
       "        text-align: right;\n",
       "    }\n",
       "</style>\n",
       "<table border=\"1\" class=\"dataframe\">\n",
       "  <thead>\n",
       "    <tr style=\"text-align: right;\">\n",
       "      <th>Port Type</th>\n",
       "      <th>Level 1</th>\n",
       "      <th>Level 2</th>\n",
       "    </tr>\n",
       "    <tr>\n",
       "      <th>Station Name</th>\n",
       "      <th></th>\n",
       "      <th></th>\n",
       "    </tr>\n",
       "  </thead>\n",
       "  <tbody>\n",
       "    <tr>\n",
       "      <th>BRYANT #1</th>\n",
       "      <td>0.003362</td>\n",
       "      <td>0.379347</td>\n",
       "    </tr>\n",
       "    <tr>\n",
       "      <th>BRYANT #2</th>\n",
       "      <td>0.003227</td>\n",
       "      <td>0.383448</td>\n",
       "    </tr>\n",
       "    <tr>\n",
       "      <th>BRYANT #3</th>\n",
       "      <td>0.007059</td>\n",
       "      <td>1.011228</td>\n",
       "    </tr>\n",
       "    <tr>\n",
       "      <th>BRYANT #4</th>\n",
       "      <td>NaN</td>\n",
       "      <td>2.537084</td>\n",
       "    </tr>\n",
       "    <tr>\n",
       "      <th>BRYANT #5</th>\n",
       "      <td>NaN</td>\n",
       "      <td>2.297091</td>\n",
       "    </tr>\n",
       "    <tr>\n",
       "      <th>BRYANT #6</th>\n",
       "      <td>NaN</td>\n",
       "      <td>2.360108</td>\n",
       "    </tr>\n",
       "    <tr>\n",
       "      <th>CAMBRIDGE #1</th>\n",
       "      <td>NaN</td>\n",
       "      <td>1.067996</td>\n",
       "    </tr>\n",
       "    <tr>\n",
       "      <th>CAMBRIDGE #2</th>\n",
       "      <td>NaN</td>\n",
       "      <td>0.848960</td>\n",
       "    </tr>\n",
       "    <tr>\n",
       "      <th>CAMBRIDGE #3</th>\n",
       "      <td>NaN</td>\n",
       "      <td>1.777681</td>\n",
       "    </tr>\n",
       "    <tr>\n",
       "      <th>CAMBRIDGE #4</th>\n",
       "      <td>NaN</td>\n",
       "      <td>1.889192</td>\n",
       "    </tr>\n",
       "    <tr>\n",
       "      <th>CAMBRIDGE #5</th>\n",
       "      <td>NaN</td>\n",
       "      <td>2.045696</td>\n",
       "    </tr>\n",
       "    <tr>\n",
       "      <th>HAMILTON #1</th>\n",
       "      <td>0.015895</td>\n",
       "      <td>0.538142</td>\n",
       "    </tr>\n",
       "    <tr>\n",
       "      <th>HAMILTON #2</th>\n",
       "      <td>0.000000</td>\n",
       "      <td>0.893620</td>\n",
       "    </tr>\n",
       "    <tr>\n",
       "      <th>HIGH #1</th>\n",
       "      <td>NaN</td>\n",
       "      <td>0.955363</td>\n",
       "    </tr>\n",
       "    <tr>\n",
       "      <th>HIGH #2</th>\n",
       "      <td>NaN</td>\n",
       "      <td>1.782420</td>\n",
       "    </tr>\n",
       "    <tr>\n",
       "      <th>HIGH #3</th>\n",
       "      <td>NaN</td>\n",
       "      <td>1.773742</td>\n",
       "    </tr>\n",
       "    <tr>\n",
       "      <th>HIGH #4</th>\n",
       "      <td>0.000000</td>\n",
       "      <td>0.698127</td>\n",
       "    </tr>\n",
       "    <tr>\n",
       "      <th>MPL #1</th>\n",
       "      <td>NaN</td>\n",
       "      <td>0.255584</td>\n",
       "    </tr>\n",
       "    <tr>\n",
       "      <th>MPL #2</th>\n",
       "      <td>NaN</td>\n",
       "      <td>0.286039</td>\n",
       "    </tr>\n",
       "    <tr>\n",
       "      <th>MPL #3</th>\n",
       "      <td>NaN</td>\n",
       "      <td>0.253275</td>\n",
       "    </tr>\n",
       "    <tr>\n",
       "      <th>MPL #4</th>\n",
       "      <td>NaN</td>\n",
       "      <td>0.921058</td>\n",
       "    </tr>\n",
       "    <tr>\n",
       "      <th>MPL #5</th>\n",
       "      <td>NaN</td>\n",
       "      <td>0.860172</td>\n",
       "    </tr>\n",
       "    <tr>\n",
       "      <th>MPL #6</th>\n",
       "      <td>NaN</td>\n",
       "      <td>0.935238</td>\n",
       "    </tr>\n",
       "    <tr>\n",
       "      <th>RINCONADA LIB 1</th>\n",
       "      <td>0.000000</td>\n",
       "      <td>0.840047</td>\n",
       "    </tr>\n",
       "    <tr>\n",
       "      <th>RINCONADA LIB 2</th>\n",
       "      <td>0.076400</td>\n",
       "      <td>0.818365</td>\n",
       "    </tr>\n",
       "    <tr>\n",
       "      <th>RINCONADA LIB 3</th>\n",
       "      <td>0.343333</td>\n",
       "      <td>0.794523</td>\n",
       "    </tr>\n",
       "    <tr>\n",
       "      <th>SHERMAN 1</th>\n",
       "      <td>NaN</td>\n",
       "      <td>3.690000</td>\n",
       "    </tr>\n",
       "    <tr>\n",
       "      <th>SHERMAN 11</th>\n",
       "      <td>NaN</td>\n",
       "      <td>3.950000</td>\n",
       "    </tr>\n",
       "    <tr>\n",
       "      <th>SHERMAN 14</th>\n",
       "      <td>NaN</td>\n",
       "      <td>2.110000</td>\n",
       "    </tr>\n",
       "    <tr>\n",
       "      <th>SHERMAN 15</th>\n",
       "      <td>NaN</td>\n",
       "      <td>2.520000</td>\n",
       "    </tr>\n",
       "    <tr>\n",
       "      <th>SHERMAN 17</th>\n",
       "      <td>NaN</td>\n",
       "      <td>1.560000</td>\n",
       "    </tr>\n",
       "    <tr>\n",
       "      <th>SHERMAN 2</th>\n",
       "      <td>NaN</td>\n",
       "      <td>2.747500</td>\n",
       "    </tr>\n",
       "    <tr>\n",
       "      <th>SHERMAN 3</th>\n",
       "      <td>NaN</td>\n",
       "      <td>2.950000</td>\n",
       "    </tr>\n",
       "    <tr>\n",
       "      <th>SHERMAN 4</th>\n",
       "      <td>NaN</td>\n",
       "      <td>1.320000</td>\n",
       "    </tr>\n",
       "    <tr>\n",
       "      <th>SHERMAN 5</th>\n",
       "      <td>NaN</td>\n",
       "      <td>0.330000</td>\n",
       "    </tr>\n",
       "    <tr>\n",
       "      <th>SHERMAN 6</th>\n",
       "      <td>NaN</td>\n",
       "      <td>2.580000</td>\n",
       "    </tr>\n",
       "    <tr>\n",
       "      <th>SHERMAN 7</th>\n",
       "      <td>NaN</td>\n",
       "      <td>4.525000</td>\n",
       "    </tr>\n",
       "    <tr>\n",
       "      <th>SHERMAN 8</th>\n",
       "      <td>NaN</td>\n",
       "      <td>11.390000</td>\n",
       "    </tr>\n",
       "    <tr>\n",
       "      <th>SHERMAN 9</th>\n",
       "      <td>NaN</td>\n",
       "      <td>1.130000</td>\n",
       "    </tr>\n",
       "    <tr>\n",
       "      <th>TED THOMPSON #1</th>\n",
       "      <td>NaN</td>\n",
       "      <td>1.340854</td>\n",
       "    </tr>\n",
       "    <tr>\n",
       "      <th>TED THOMPSON #2</th>\n",
       "      <td>NaN</td>\n",
       "      <td>2.846946</td>\n",
       "    </tr>\n",
       "    <tr>\n",
       "      <th>TED THOMPSON #3</th>\n",
       "      <td>NaN</td>\n",
       "      <td>2.523642</td>\n",
       "    </tr>\n",
       "    <tr>\n",
       "      <th>TED THOMPSON #4</th>\n",
       "      <td>NaN</td>\n",
       "      <td>2.467120</td>\n",
       "    </tr>\n",
       "    <tr>\n",
       "      <th>WEBSTER #1</th>\n",
       "      <td>NaN</td>\n",
       "      <td>1.308877</td>\n",
       "    </tr>\n",
       "    <tr>\n",
       "      <th>WEBSTER #2</th>\n",
       "      <td>NaN</td>\n",
       "      <td>1.229076</td>\n",
       "    </tr>\n",
       "    <tr>\n",
       "      <th>WEBSTER #3</th>\n",
       "      <td>NaN</td>\n",
       "      <td>1.246295</td>\n",
       "    </tr>\n",
       "  </tbody>\n",
       "</table>\n",
       "</div>"
      ],
      "text/plain": [
       "Port Type          Level 1    Level 2\n",
       "Station Name                         \n",
       " BRYANT #1        0.003362   0.379347\n",
       " BRYANT #2        0.003227   0.383448\n",
       " BRYANT #3        0.007059   1.011228\n",
       " BRYANT #4             NaN   2.537084\n",
       " BRYANT #5             NaN   2.297091\n",
       " BRYANT #6             NaN   2.360108\n",
       " CAMBRIDGE #1          NaN   1.067996\n",
       " CAMBRIDGE #2          NaN   0.848960\n",
       " CAMBRIDGE #3          NaN   1.777681\n",
       " CAMBRIDGE #4          NaN   1.889192\n",
       " CAMBRIDGE #5          NaN   2.045696\n",
       " HAMILTON #1      0.015895   0.538142\n",
       " HAMILTON #2      0.000000   0.893620\n",
       " HIGH #1               NaN   0.955363\n",
       " HIGH #2               NaN   1.782420\n",
       " HIGH #3               NaN   1.773742\n",
       " HIGH #4          0.000000   0.698127\n",
       " MPL #1                NaN   0.255584\n",
       " MPL #2                NaN   0.286039\n",
       " MPL #3                NaN   0.253275\n",
       " MPL #4                NaN   0.921058\n",
       " MPL #5                NaN   0.860172\n",
       " MPL #6                NaN   0.935238\n",
       " RINCONADA LIB 1  0.000000   0.840047\n",
       " RINCONADA LIB 2  0.076400   0.818365\n",
       " RINCONADA LIB 3  0.343333   0.794523\n",
       " SHERMAN 1             NaN   3.690000\n",
       " SHERMAN 11            NaN   3.950000\n",
       " SHERMAN 14            NaN   2.110000\n",
       " SHERMAN 15            NaN   2.520000\n",
       " SHERMAN 17            NaN   1.560000\n",
       " SHERMAN 2             NaN   2.747500\n",
       " SHERMAN 3             NaN   2.950000\n",
       " SHERMAN 4             NaN   1.320000\n",
       " SHERMAN 5             NaN   0.330000\n",
       " SHERMAN 6             NaN   2.580000\n",
       " SHERMAN 7             NaN   4.525000\n",
       " SHERMAN 8             NaN  11.390000\n",
       " SHERMAN 9             NaN   1.130000\n",
       " TED THOMPSON #1       NaN   1.340854\n",
       " TED THOMPSON #2       NaN   2.846946\n",
       " TED THOMPSON #3       NaN   2.523642\n",
       " TED THOMPSON #4       NaN   2.467120\n",
       " WEBSTER #1            NaN   1.308877\n",
       " WEBSTER #2            NaN   1.229076\n",
       " WEBSTER #3            NaN   1.246295"
      ]
     },
     "execution_count": 55,
     "metadata": {},
     "output_type": "execute_result"
    }
   ],
   "source": [
    "crossT"
   ]
  },
  {
   "cell_type": "code",
   "execution_count": 56,
   "id": "bc81ec54",
   "metadata": {},
   "outputs": [
    {
     "data": {
      "text/plain": [
       "array([' CAMBRIDGE #2', ' HAMILTON #2', ' WEBSTER #1', ' HAMILTON #1',\n",
       "       ' HIGH #3', ' RINCONADA LIB 1', ' MPL #5', ' WEBSTER #3',\n",
       "       ' BRYANT #3', ' BRYANT #6', ' TED THOMPSON #1', ' CAMBRIDGE #1',\n",
       "       ' MPL #4', ' MPL #3', ' HIGH #2', ' HIGH #4', ' BRYANT #5',\n",
       "       ' BRYANT #4', ' HIGH #1', ' BRYANT #2', ' RINCONADA LIB 2',\n",
       "       ' RINCONADA LIB 3', ' MPL #6', ' BRYANT #1', ' WEBSTER #2',\n",
       "       ' MPL #2', ' MPL #1', ' CAMBRIDGE #5', ' TED THOMPSON #3',\n",
       "       ' TED THOMPSON #4', ' TED THOMPSON #2', ' CAMBRIDGE #3',\n",
       "       ' CAMBRIDGE #4', ' SHERMAN 6', ' SHERMAN 7', ' SHERMAN 9',\n",
       "       ' SHERMAN 8', ' SHERMAN 4', ' SHERMAN 1', ' SHERMAN 3',\n",
       "       ' SHERMAN 14', ' SHERMAN 2', ' SHERMAN 5', ' SHERMAN 15',\n",
       "       ' SHERMAN 11', ' SHERMAN 17'], dtype=object)"
      ]
     },
     "execution_count": 56,
     "metadata": {},
     "output_type": "execute_result"
    }
   ],
   "source": [
    "df[df['Fee'] > 0]['Station Name'].unique()"
   ]
  },
  {
   "cell_type": "code",
   "execution_count": 57,
   "id": "a07e41a3",
   "metadata": {},
   "outputs": [
    {
     "data": {
      "text/plain": [
       "Driver Postal Code\n",
       "94301.0    25032\n",
       "94303.0    22561\n",
       "94306.0    21573\n",
       "94025.0    11581\n",
       "94043.0     7541\n",
       "           ...  \n",
       "92630.0        1\n",
       "47906.0        1\n",
       "6830.0         1\n",
       "93536.0        1\n",
       "63301.0        1\n",
       "Name: count, Length: 985, dtype: int64"
      ]
     },
     "execution_count": 57,
     "metadata": {},
     "output_type": "execute_result"
    }
   ],
   "source": [
    "df['Driver Postal Code'].value_counts()"
   ]
  },
  {
   "cell_type": "code",
   "execution_count": 58,
   "id": "d1cff916",
   "metadata": {},
   "outputs": [
    {
     "data": {
      "text/plain": [
       "Text(0.5, 1.0, 'Charging Station Postal Code vs Driver Postal Code')"
      ]
     },
     "execution_count": 58,
     "metadata": {},
     "output_type": "execute_result"
    },
    {
     "data": {
      "image/png": "[encoded data removed]",
      "text/plain": [
       "<Figure size 1400x800 with 1 Axes>"
      ]
     },
     "metadata": {},
     "output_type": "display_data"
    }
   ],
   "source": [
    "plt.figure(figsize=(14,8))\n",
    "sns.regplot(x=df['Driver Postal Code'], y=df['Postal Code'])\n",
    "sns.despine()\n",
    "plt.title(\"Charging Station Postal Code vs Driver Postal Code\")"
   ]
  },
  {
   "cell_type": "markdown",
   "id": "69a31ed1",
   "metadata": {},
   "source": [
    "Many NaN values on County \n",
    "Need to fill it up with actual county names"
   ]
  },
  {
   "cell_type": "code",
   "execution_count": 59,
   "id": "f729d44a",
   "metadata": {},
   "outputs": [
    {
     "data": {
      "text/plain": [
       "County\n",
       "Santa Clara County    147263\n",
       "San Mateo County       27487\n",
       "Name: count, dtype: int64"
      ]
     },
     "execution_count": 59,
     "metadata": {},
     "output_type": "execute_result"
    }
   ],
   "source": [
    "df['County'].value_counts()"
   ]
  },
  {
   "cell_type": "code",
   "execution_count": 60,
   "id": "2f70b408",
   "metadata": {},
   "outputs": [
    {
     "data": {
      "text/plain": [
       "84665"
      ]
     },
     "execution_count": 60,
     "metadata": {},
     "output_type": "execute_result"
    }
   ],
   "source": [
    "df['County'].isna().sum()\n",
    "#Problem I need to solve"
   ]
  },
  {
   "cell_type": "markdown",
   "id": "67f3332d",
   "metadata": {},
   "source": [
    "There are 84665 NaN values in County column"
   ]
  },
  {
   "cell_type": "markdown",
   "id": "9cf4c79a",
   "metadata": {},
   "source": [
    "#GHG (Greenhouse Gas) savings, measured in kilograms (kg), refers to the reduction in the emission of greenhouse gases that would have occurred as a result of implementing a particular action, process, or technology\n",
    "\n"
   ]
  },
  {
   "cell_type": "code",
   "execution_count": 62,
   "id": "6d4b0836",
   "metadata": {},
   "outputs": [],
   "source": [
    "#ghg = df.groupby('Address 1')['GreenHouseGasSave'].sum().div(1000).reset_index().sort_values(by='GreenHouseGasSave', ascending=False).reset_index(drop=True)\n",
    "#ghg"
   ]
  },
  {
   "cell_type": "markdown",
   "id": "24fbbdee",
   "metadata": {},
   "source": [
    "445 Bryant St is parking lot building where Tesla supercharger and other super charging stations available.\tIt saved ovearall 162.667532"
   ]
  },
  {
   "cell_type": "code",
   "execution_count": 63,
   "id": "8452f29b",
   "metadata": {},
   "outputs": [
    {
     "data": {
      "text/html": [
       "<div>\n",
       "<style scoped>\n",
       "    .dataframe tbody tr th:only-of-type {\n",
       "        vertical-align: middle;\n",
       "    }\n",
       "\n",
       "    .dataframe tbody tr th {\n",
       "        vertical-align: top;\n",
       "    }\n",
       "\n",
       "    .dataframe thead th {\n",
       "        text-align: right;\n",
       "    }\n",
       "</style>\n",
       "<table border=\"1\" class=\"dataframe\">\n",
       "  <thead>\n",
       "    <tr style=\"text-align: right;\">\n",
       "      <th></th>\n",
       "      <th>Address 1</th>\n",
       "      <th>Gasoline Savings</th>\n",
       "      <th>ByYear</th>\n",
       "    </tr>\n",
       "  </thead>\n",
       "  <tbody>\n",
       "    <tr>\n",
       "      <th>0</th>\n",
       "      <td>445 Bryant St</td>\n",
       "      <td>24.170334</td>\n",
       "      <td>2011</td>\n",
       "    </tr>\n",
       "    <tr>\n",
       "      <th>1</th>\n",
       "      <td>528 High St</td>\n",
       "      <td>20.477242</td>\n",
       "      <td>2011</td>\n",
       "    </tr>\n",
       "    <tr>\n",
       "      <th>2</th>\n",
       "      <td>250 Hamilton Ave</td>\n",
       "      <td>19.062278</td>\n",
       "      <td>2011</td>\n",
       "    </tr>\n",
       "    <tr>\n",
       "      <th>3</th>\n",
       "      <td>3700 Middlefield Rd</td>\n",
       "      <td>15.267454</td>\n",
       "      <td>2014</td>\n",
       "    </tr>\n",
       "    <tr>\n",
       "      <th>4</th>\n",
       "      <td>532 Webster St</td>\n",
       "      <td>7.570594</td>\n",
       "      <td>2015</td>\n",
       "    </tr>\n",
       "    <tr>\n",
       "      <th>5</th>\n",
       "      <td>1520 Walnut Dr</td>\n",
       "      <td>1.952445</td>\n",
       "      <td>2015</td>\n",
       "    </tr>\n",
       "    <tr>\n",
       "      <th>6</th>\n",
       "      <td>1514 Walnut Dr</td>\n",
       "      <td>1.087224</td>\n",
       "      <td>2015</td>\n",
       "    </tr>\n",
       "    <tr>\n",
       "      <th>7</th>\n",
       "      <td>520 Webster St</td>\n",
       "      <td>15.044005</td>\n",
       "      <td>2016</td>\n",
       "    </tr>\n",
       "    <tr>\n",
       "      <th>8</th>\n",
       "      <td>275 Cambridge Ave</td>\n",
       "      <td>10.065208</td>\n",
       "      <td>2016</td>\n",
       "    </tr>\n",
       "    <tr>\n",
       "      <th>9</th>\n",
       "      <td>1213 Newell Rd</td>\n",
       "      <td>7.651955</td>\n",
       "      <td>2016</td>\n",
       "    </tr>\n",
       "    <tr>\n",
       "      <th>10</th>\n",
       "      <td>400 Cambridge Ave</td>\n",
       "      <td>5.453336</td>\n",
       "      <td>2016</td>\n",
       "    </tr>\n",
       "    <tr>\n",
       "      <th>11</th>\n",
       "      <td>528 high st</td>\n",
       "      <td>1.143796</td>\n",
       "      <td>2017</td>\n",
       "    </tr>\n",
       "    <tr>\n",
       "      <th>12</th>\n",
       "      <td>520 Cowper St</td>\n",
       "      <td>0.010285</td>\n",
       "      <td>2017</td>\n",
       "    </tr>\n",
       "    <tr>\n",
       "      <th>13</th>\n",
       "      <td>533 Cowper St</td>\n",
       "      <td>0.007104</td>\n",
       "      <td>2017</td>\n",
       "    </tr>\n",
       "    <tr>\n",
       "      <th>14</th>\n",
       "      <td>475 Cambridge Ave</td>\n",
       "      <td>9.155415</td>\n",
       "      <td>2018</td>\n",
       "    </tr>\n",
       "    <tr>\n",
       "      <th>15</th>\n",
       "      <td>350 Sherman Ave</td>\n",
       "      <td>0.027002</td>\n",
       "      <td>2020</td>\n",
       "    </tr>\n",
       "    <tr>\n",
       "      <th>16</th>\n",
       "      <td>358 Sherman Ave</td>\n",
       "      <td>0.005296</td>\n",
       "      <td>2020</td>\n",
       "    </tr>\n",
       "  </tbody>\n",
       "</table>\n",
       "</div>"
      ],
      "text/plain": [
       "              Address 1  Gasoline Savings  ByYear\n",
       "0         445 Bryant St         24.170334    2011\n",
       "1           528 High St         20.477242    2011\n",
       "2      250 Hamilton Ave         19.062278    2011\n",
       "3   3700 Middlefield Rd         15.267454    2014\n",
       "4        532 Webster St          7.570594    2015\n",
       "5        1520 Walnut Dr          1.952445    2015\n",
       "6        1514 Walnut Dr          1.087224    2015\n",
       "7        520 Webster St         15.044005    2016\n",
       "8     275 Cambridge Ave         10.065208    2016\n",
       "9        1213 Newell Rd          7.651955    2016\n",
       "10    400 Cambridge Ave          5.453336    2016\n",
       "11          528 high st          1.143796    2017\n",
       "12        520 Cowper St          0.010285    2017\n",
       "13        533 Cowper St          0.007104    2017\n",
       "14    475 Cambridge Ave          9.155415    2018\n",
       "15      350 Sherman Ave          0.027002    2020\n",
       "16      358 Sherman Ave          0.005296    2020"
      ]
     },
     "execution_count": 63,
     "metadata": {},
     "output_type": "execute_result"
    }
   ],
   "source": [
    "gs = df.groupby('Address 1').agg({'Gasoline Savings': 'sum', 'ByYear': 'first'}).reset_index()\n",
    "gs['Gasoline Savings'] = gs['Gasoline Savings'] / gs['ByYear']\n",
    "gs = gs.sort_values(by=['ByYear', 'Gasoline Savings'], ascending=[True, False]).reset_index(drop=True)\n",
    "gs\n",
    "# Gas Saved goes by KG"
   ]
  },
  {
   "cell_type": "markdown",
   "id": "b9b77e1d",
   "metadata": {},
   "source": [
    "Year 2020 is lowest year in terms of gasoline savings because pandemic."
   ]
  },
  {
   "cell_type": "code",
   "execution_count": 64,
   "id": "a98cc7ff",
   "metadata": {},
   "outputs": [],
   "source": [
    "df['ByYear'] = pd.to_datetime(df['Start Date']).dt.year\n",
    "#convert start year by year in order to calculate other necessary calculation"
   ]
  },
  {
   "cell_type": "code",
   "execution_count": 65,
   "id": "5180e405",
   "metadata": {},
   "outputs": [
    {
     "data": {
      "text/plain": [
       "ByYear  Address 1          \n",
       "2011    250 Hamilton Ave        2423.841\n",
       "        445 Bryant St            654.264\n",
       "        528 High St              436.490\n",
       "2012    250 Hamilton Ave        7818.865\n",
       "        445 Bryant St           6970.995\n",
       "                                 ...    \n",
       "2020    3700 Middlefield Rd     7887.011\n",
       "        445 Bryant St          10606.513\n",
       "        475 Cambridge Ave      15686.857\n",
       "        520 Webster St         13371.518\n",
       "        528 High St            12705.758\n",
       "Name: GreenHouseGasSave, Length: 70, dtype: float64"
      ]
     },
     "execution_count": 65,
     "metadata": {},
     "output_type": "execute_result"
    }
   ],
   "source": [
    "ghgby = df.groupby(['ByYear','Address 1'])['GreenHouseGasSave'].sum()\n",
    "ghgby"
   ]
  },
  {
   "cell_type": "code",
   "execution_count": 66,
   "id": "08974211",
   "metadata": {},
   "outputs": [
    {
     "data": {
      "image/png": "[encoded data removed]",
      "text/plain": [
       "<Figure size 640x480 with 1 Axes>"
      ]
     },
     "metadata": {},
     "output_type": "display_data"
    }
   ],
   "source": [
    "#GHG saved by address per year\n",
    "ghgby_df = ghgby.reset_index()\n",
    "ghgby_df.plot(kind='bar', x='ByYear', y='GreenHouseGasSave', legend=False)\n",
    "\n",
    "plt.xlabel('Year')\n",
    "plt.ylabel('Total GreenHouseGasSave')\n",
    "plt.title('Total GreenHouseGasSave by Year')\n",
    "plt.show()"
   ]
  },
  {
   "cell_type": "code",
   "execution_count": 67,
   "id": "271e0fed",
   "metadata": {},
   "outputs": [
    {
     "data": {
      "text/plain": [
       "ByYear  Postal Code\n",
       "2011    94301            3514.595\n",
       "2012    94301           18049.138\n",
       "2013    94301           30198.590\n",
       "2014    94301           35174.688\n",
       "        94303            1948.712\n",
       "2015    94301           49124.471\n",
       "        94303           27090.959\n",
       "2016    94301           97400.290\n",
       "        94303           46577.974\n",
       "        94306           26360.781\n",
       "2017    94301          109405.967\n",
       "        94303           40711.767\n",
       "        94306           27229.489\n",
       "2018    94301           94129.548\n",
       "        94303           22051.946\n",
       "        94306           35132.181\n",
       "2019    94301          107105.650\n",
       "        94303           25015.396\n",
       "        94306           51711.271\n",
       "2020    94301           45055.897\n",
       "        94303           11631.173\n",
       "        94306           26315.207\n",
       "Name: GreenHouseGasSave, dtype: float64"
      ]
     },
     "execution_count": 67,
     "metadata": {},
     "output_type": "execute_result"
    }
   ],
   "source": [
    "postal_code = df.groupby(['ByYear','Postal Code'])['GreenHouseGasSave'].sum()\n",
    "postal_code"
   ]
  },
  {
   "cell_type": "code",
   "execution_count": 68,
   "id": "0430563d",
   "metadata": {
    "scrolled": true
   },
   "outputs": [
    {
     "name": "stdout",
     "output_type": "stream",
     "text": [
      "              Address 1  GreenHouseGasSave  ByYear\n",
      "0         445 Bryant St          80.888877    2011\n",
      "1           528 High St          68.529560    2011\n",
      "2      250 Hamilton Ave          63.794180    2011\n",
      "3   3700 Middlefield Rd          51.094332    2014\n",
      "4        532 Webster St          25.335725    2015\n",
      "5        1520 Walnut Dr           6.534065    2015\n",
      "6        1514 Walnut Dr           3.638538    2015\n",
      "7        520 Webster St          50.346534    2016\n",
      "8     275 Cambridge Ave          33.684294    2016\n",
      "9        1213 Newell Rd          25.608208    2016\n",
      "10    400 Cambridge Ave          18.250204    2016\n",
      "11          528 high st           3.827858    2017\n",
      "12        520 Cowper St           0.034419    2017\n",
      "13        533 Cowper St           0.023772    2017\n",
      "14    475 Cambridge Ave          30.639570    2018\n",
      "15      350 Sherman Ave           0.090359    2020\n",
      "16      358 Sherman Ave           0.017725    2020\n"
     ]
    }
   ],
   "source": [
    "ghg = df.groupby('Address 1').agg({'GreenHouseGasSave': 'sum', 'ByYear': 'first'}).reset_index()\n",
    "ghg['GreenHouseGasSave'] = ghg['GreenHouseGasSave'] / ghg['ByYear']\n",
    "ghg = ghg.sort_values(by=['ByYear', 'GreenHouseGasSave'], ascending=[True, False]).reset_index(drop=True)\n",
    "print(ghg)\n",
    "# GHG goes by KG"
   ]
  },
  {
   "cell_type": "code",
   "execution_count": 69,
   "id": "8b3b5a37",
   "metadata": {},
   "outputs": [],
   "source": [
    "df['byWeek'] = pd.to_datetime(df['Start Date']).dt.day_name()\n",
    "df['weekend'] = df['byWeek'].isin(['Saturday','Sunday'])\n",
    "df['weekday'] = df['byWeek'].isin(['Monday','Tuesday','Wednesday','Thursday','Friday'])"
   ]
  },
  {
   "cell_type": "code",
   "execution_count": 70,
   "id": "3ba2ad3f",
   "metadata": {},
   "outputs": [
    {
     "data": {
      "text/html": [
       "<div>\n",
       "<style scoped>\n",
       "    .dataframe tbody tr th:only-of-type {\n",
       "        vertical-align: middle;\n",
       "    }\n",
       "\n",
       "    .dataframe tbody tr th {\n",
       "        vertical-align: top;\n",
       "    }\n",
       "\n",
       "    .dataframe thead th {\n",
       "        text-align: right;\n",
       "    }\n",
       "</style>\n",
       "<table border=\"1\" class=\"dataframe\">\n",
       "  <thead>\n",
       "    <tr style=\"text-align: right;\">\n",
       "      <th></th>\n",
       "      <th>byWeek</th>\n",
       "      <th>Charging Time</th>\n",
       "    </tr>\n",
       "  </thead>\n",
       "  <tbody>\n",
       "    <tr>\n",
       "      <th>0</th>\n",
       "      <td>Wednesday</td>\n",
       "      <td>40483</td>\n",
       "    </tr>\n",
       "    <tr>\n",
       "      <th>1</th>\n",
       "      <td>Tuesday</td>\n",
       "      <td>39578</td>\n",
       "    </tr>\n",
       "    <tr>\n",
       "      <th>2</th>\n",
       "      <td>Thursday</td>\n",
       "      <td>40189</td>\n",
       "    </tr>\n",
       "    <tr>\n",
       "      <th>3</th>\n",
       "      <td>Sunday</td>\n",
       "      <td>29626</td>\n",
       "    </tr>\n",
       "    <tr>\n",
       "      <th>4</th>\n",
       "      <td>Saturday</td>\n",
       "      <td>32264</td>\n",
       "    </tr>\n",
       "    <tr>\n",
       "      <th>5</th>\n",
       "      <td>Monday</td>\n",
       "      <td>36853</td>\n",
       "    </tr>\n",
       "    <tr>\n",
       "      <th>6</th>\n",
       "      <td>Friday</td>\n",
       "      <td>40422</td>\n",
       "    </tr>\n",
       "  </tbody>\n",
       "</table>\n",
       "</div>"
      ],
      "text/plain": [
       "      byWeek  Charging Time\n",
       "0  Wednesday          40483\n",
       "1    Tuesday          39578\n",
       "2   Thursday          40189\n",
       "3     Sunday          29626\n",
       "4   Saturday          32264\n",
       "5     Monday          36853\n",
       "6     Friday          40422"
      ]
     },
     "execution_count": 70,
     "metadata": {},
     "output_type": "execute_result"
    }
   ],
   "source": [
    "#usage of charging stations during week days and weekends\n",
    "CT_by_week = df.groupby('byWeek')['Charging Time'].size().reset_index().sort_values(by='byWeek', ascending=False).reset_index(drop=True)\n",
    "CT_by_week"
   ]
  },
  {
   "cell_type": "code",
   "execution_count": 150,
   "id": "a815376d",
   "metadata": {
    "scrolled": true
   },
   "outputs": [
    {
     "data": {
      "image/png": "[encoded data removed]",
      "text/plain": [
       "<Figure size 640x480 with 1 Axes>"
      ]
     },
     "metadata": {},
     "output_type": "display_data"
    }
   ],
   "source": [
    "sns.barplot(data=CT_by_week, y ='Charging Time',x = 'byWeek',order=CT_by_week['byWeek'])\n",
    "plt.title('Charging Time On Weekly Basis')\n",
    "plt.show()"
   ]
  },
  {
   "cell_type": "markdown",
   "id": "fcafd3f3",
   "metadata": {},
   "source": [
    "Possible trend is charge EV during Wednesday, Thursday and Friday and use it during Weekend and Monday.\n"
   ]
  },
  {
   "cell_type": "code",
   "execution_count": null,
   "id": "75ac6c43",
   "metadata": {},
   "outputs": [],
   "source": []
  },
  {
   "cell_type": "code",
   "execution_count": 153,
   "id": "e1de2f1f",
   "metadata": {},
   "outputs": [
    {
     "data": {
      "text/html": [
       "<div>\n",
       "<style scoped>\n",
       "    .dataframe tbody tr th:only-of-type {\n",
       "        vertical-align: middle;\n",
       "    }\n",
       "\n",
       "    .dataframe tbody tr th {\n",
       "        vertical-align: top;\n",
       "    }\n",
       "\n",
       "    .dataframe thead th {\n",
       "        text-align: right;\n",
       "    }\n",
       "</style>\n",
       "<table border=\"1\" class=\"dataframe\">\n",
       "  <thead>\n",
       "    <tr style=\"text-align: right;\">\n",
       "      <th></th>\n",
       "      <th>weekday</th>\n",
       "      <th>Charging Time</th>\n",
       "    </tr>\n",
       "  </thead>\n",
       "  <tbody>\n",
       "    <tr>\n",
       "      <th>0</th>\n",
       "      <td>True</td>\n",
       "      <td>197308</td>\n",
       "    </tr>\n",
       "    <tr>\n",
       "      <th>1</th>\n",
       "      <td>False</td>\n",
       "      <td>61858</td>\n",
       "    </tr>\n",
       "  </tbody>\n",
       "</table>\n",
       "</div>"
      ],
      "text/plain": [
       "   weekday  Charging Time\n",
       "0     True         197308\n",
       "1    False          61858"
      ]
     },
     "execution_count": 153,
     "metadata": {},
     "output_type": "execute_result"
    }
   ],
   "source": [
    "#usage of charging stations during week days and weekends\n",
    "CT_by_weekday = df.groupby('weekday')['Charging Time'].size().reset_index().sort_values(by='Charging Time', ascending=False).reset_index(drop=True)\n",
    "CT_by_weekday.replace({True: 'Weekday', False: 'Weekend'})\n",
    "CT_by_weekday"
   ]
  },
  {
   "cell_type": "code",
   "execution_count": 154,
   "id": "58372748",
   "metadata": {},
   "outputs": [
    {
     "data": {
      "text/plain": [
       "Text(0.5, 1.0, 'Charging Time During Weekdays and Weekends')"
      ]
     },
     "execution_count": 154,
     "metadata": {},
     "output_type": "execute_result"
    },
    {
     "data": {
      "image/png": "[encoded data removed]",
      "text/plain": [
       "<Figure size 640x480 with 1 Axes>"
      ]
     },
     "metadata": {},
     "output_type": "display_data"
    }
   ],
   "source": [
    "sns.barplot(data=CT_by_weekday, y ='Charging Time',x = 'weekday')\n",
    "plt.title('Charging Time During Weekdays and Weekends')"
   ]
  },
  {
   "cell_type": "code",
   "execution_count": 135,
   "id": "420b94d6",
   "metadata": {},
   "outputs": [
    {
     "data": {
      "text/plain": [
       "Index(['Station Name', 'MAC Address', 'Org Name', 'Start Date',\n",
       "       'Start Time Zone', 'End Date', 'End Time Zone', 'Transaction Date',\n",
       "       'Total Duration', 'Charging Time', 'Energy', 'GreenHouseGasSave',\n",
       "       'Gasoline Savings', 'Port Type', 'Port Number', 'Plug Type', 'EVSE ID',\n",
       "       'Address 1', 'City', 'Postal Code', 'Latitude', 'Longitude', 'Fee',\n",
       "       'Ended By', 'Plug In Event Id', 'Driver Postal Code', 'User ID',\n",
       "       'County', 'System S/N', 'Model Number', 'TimeAfterCharged',\n",
       "       'Total_Amount_For_Charging', 'Transaction Date By year', 'ByYear',\n",
       "       'byWeek', 'weekend', 'weekdays', 'weekday'],\n",
       "      dtype='object')"
      ]
     },
     "execution_count": 135,
     "metadata": {},
     "output_type": "execute_result"
    }
   ],
   "source": [
    "df.columns"
   ]
  },
  {
   "cell_type": "code",
   "execution_count": 71,
   "id": "b2ee5d56",
   "metadata": {},
   "outputs": [],
   "source": [
    "#df.to_csv('output.csv', index=False)"
   ]
  },
  {
   "cell_type": "markdown",
   "id": "5c3a7ce8",
   "metadata": {},
   "source": [
    "\n",
    "#### Summary:\n",
    "Overall, some columns have been dropped, and others have been adjusted for analysis purposes. The process is not yet complete, and further analysis will be conducted. The ultimate goal is to understand how each column impacts the others."
   ]
  },
  {
   "cell_type": "code",
   "execution_count": null,
   "id": "925ff684",
   "metadata": {},
   "outputs": [],
   "source": []
  },
  {
   "cell_type": "code",
   "execution_count": null,
   "id": "6d52c6e7",
   "metadata": {},
   "outputs": [],
   "source": []
  }
 ],
 "metadata": {
  "kernelspec": {
   "display_name": "Python 3 (ipykernel)",
   "language": "python",
   "name": "python3"
  },
  "language_info": {
   "codemirror_mode": {
    "name": "ipython",
    "version": 3
   },
   "file_extension": ".py",
   "mimetype": "text/x-python",
   "name": "python",
   "nbconvert_exporter": "python",
   "pygments_lexer": "ipython3",
   "version": "3.11.5"
  }
 },
 "nbformat": 4,
 "nbformat_minor": 5
}
